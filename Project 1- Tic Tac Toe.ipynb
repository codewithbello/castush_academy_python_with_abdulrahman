{
 "cells": [
  {
   "cell_type": "code",
   "execution_count": 1,
   "id": "d7e4a1eb",
   "metadata": {},
   "outputs": [],
   "source": [
    "import random"
   ]
  },
  {
   "cell_type": "code",
   "execution_count": null,
   "id": "7218f168",
   "metadata": {},
   "outputs": [
    {
     "data": {
      "text/plain": [
       "'blue'"
      ]
     },
     "execution_count": 10,
     "metadata": {},
     "output_type": "execute_result"
    }
   ],
   "source": [
    "# Random using Choice\n",
    "bag = ['red', 'blue', 'green']\n",
    "\n",
    "random.choice(bag)"
   ]
  },
  {
   "cell_type": "code",
   "execution_count": 144,
   "id": "471f114c",
   "metadata": {},
   "outputs": [
    {
     "name": "stdout",
     "output_type": "stream",
     "text": [
      "4\n"
     ]
    }
   ],
   "source": [
    "# Random Using randint\n",
    "\n",
    "# Say a dice (1-6)\n",
    "\n",
    "roll_dice = random.randint(1,6)\n",
    "print(roll_dice)"
   ]
  },
  {
   "cell_type": "code",
   "execution_count": 157,
   "id": "a71d7c16",
   "metadata": {},
   "outputs": [
    {
     "name": "stdout",
     "output_type": "stream",
     "text": [
      "1\n",
      "6\n",
      "6\n",
      "4\n",
      "4\n",
      "6\n",
      "6\n",
      "4\n",
      "6\n",
      "2\n",
      "4\n",
      "6\n",
      "4\n",
      "3\n",
      "2\n",
      "6\n",
      "5\n",
      "Stop\n"
     ]
    }
   ],
   "source": [
    "picked = 5\n",
    "roll_dice = 0\n",
    "\n",
    "while not picked == roll_dice:\n",
    "    roll_dice = random.randint(1,6)\n",
    "    print(roll_dice)\n",
    "    if roll_dice == picked:\n",
    "        print('Stop')\n"
   ]
  },
  {
   "cell_type": "code",
   "execution_count": null,
   "id": "d0b8d549",
   "metadata": {},
   "outputs": [
    {
     "name": "stdout",
     "output_type": "stream",
     "text": [
      "['--', '--', '--', '--', 'X', '--', '--', '--', '--']\n",
      "9\n"
     ]
    }
   ],
   "source": [
    "# Tic Tact Toe Project\n",
    "\n",
    "#1\n",
    "board = [\"--\", \"--\", \"--\",\n",
    "        \"--\", \"--\", \"--\",\n",
    "        \"--\", \"--\", \"--\"]\n",
    "\n",
    "print(board)\n",
    "\n",
    "# How many dash or position\n",
    "pos = len(board)\n",
    "print(pos)"
   ]
  },
  {
   "cell_type": "code",
   "execution_count": 184,
   "id": "0e9b6cde",
   "metadata": {},
   "outputs": [],
   "source": [
    "#2. Inital variables\n",
    "currentPlayer = \"X\"\n",
    "winner = None\n",
    "gameRunning  = True"
   ]
  },
  {
   "cell_type": "code",
   "execution_count": 172,
   "id": "63c04b17",
   "metadata": {},
   "outputs": [
    {
     "name": "stdout",
     "output_type": "stream",
     "text": [
      "--|--|--\n",
      "--|--|--\n",
      "--|--|--\n"
     ]
    }
   ],
   "source": [
    "print(board[0] + \"|\"  + board[1] +\"|\" + board[2])\n",
    "print(board[3] + \"|\"  + board[4] +\"|\" + board[5])\n",
    "print(board[6] + \"|\"  + board[7] +\"|\" + board[8])"
   ]
  },
  {
   "cell_type": "code",
   "execution_count": null,
   "id": "e3789002",
   "metadata": {},
   "outputs": [],
   "source": [
    "#3 Game Board\n",
    "def printBoard(board):\n",
    "    print(board[0] + \"|\"  + board[1] +\"|\" + board[2])\n",
    "    print(board[3] + \"|\"  + board[4] +\"|\" + board[5])\n",
    "    print(board[6] + \"|\"  + board[7] +\"|\" + board[8])\n"
   ]
  },
  {
   "cell_type": "code",
   "execution_count": 174,
   "id": "58e27948",
   "metadata": {},
   "outputs": [
    {
     "name": "stdout",
     "output_type": "stream",
     "text": [
      "--|--|--\n",
      "--|--|--\n",
      "--|--|--\n"
     ]
    }
   ],
   "source": [
    "printBoard(board)"
   ]
  },
  {
   "cell_type": "code",
   "execution_count": 177,
   "id": "eced8a53",
   "metadata": {},
   "outputs": [
    {
     "name": "stdout",
     "output_type": "stream",
     "text": [
      "Correct\n"
     ]
    }
   ],
   "source": [
    "human_player = input(\"Select a spot 1-9:\")\n",
    "# Get the board index\n",
    "if human_player.isnumeric():\n",
    "    print('Correct')\n",
    "else:\n",
    "    print('Wrong')"
   ]
  },
  {
   "cell_type": "code",
   "execution_count": null,
   "id": "bbe95f91",
   "metadata": {},
   "outputs": [
    {
     "name": "stdout",
     "output_type": "stream",
     "text": [
      "['r', 'b', 'y']\n",
      "b\n",
      "['r', 'X', 'y']\n"
     ]
    }
   ],
   "source": [
    "# Practice Codes\n",
    "colours = ['r', 'b', 'y']\n",
    "print(colours)\n",
    "print(colours[1])\n",
    "\n",
    "# Change the value of index 1\n",
    "\n",
    "colours[1] = currentPlayer\n",
    "print(colours)"
   ]
  },
  {
   "cell_type": "code",
   "execution_count": 191,
   "id": "aa31a1f8",
   "metadata": {},
   "outputs": [
    {
     "data": {
      "text/plain": [
       "True"
      ]
     },
     "execution_count": 191,
     "metadata": {},
     "output_type": "execute_result"
    }
   ],
   "source": [
    "# Practice Codes\n",
    "\n",
    "colours = ['r', 'b', 'y']\n",
    "\n",
    "'b' in colours"
   ]
  },
  {
   "cell_type": "code",
   "execution_count": null,
   "id": "af1d7193",
   "metadata": {},
   "outputs": [
    {
     "name": "stdout",
     "output_type": "stream",
     "text": [
      "index 4\n",
      "Oops player is already at that spot.\n"
     ]
    }
   ],
   "source": [
    "human_player_input = input(\"Select a spot 1-9:\")\n",
    "# Check if the index is a number\n",
    "if human_player_input.isnumeric():\n",
    "# Get the board index\n",
    "    index = int(human_player_input) -1\n",
    "\n",
    "    print(\"index\", index)\n",
    "\n",
    "    if board[index] == '--':\n",
    "        board[index] = currentPlayer\n",
    "    else:\n",
    "        print(\"Oops player is already at that spot.\")\n",
    "else:\n",
    "    print(\"Oops enter number between 1-9.\")\n",
    "\n",
    "\n",
    "# Note: The input returns a string and therefore its number input Must be converted to a int"
   ]
  },
  {
   "cell_type": "code",
   "execution_count": null,
   "id": "03587f22",
   "metadata": {},
   "outputs": [],
   "source": [
    "#4 Take Player Input\n",
    "def playerInput(board):\n",
    "    human_player_input = input(\"Select a spot 1-9:\")\n",
    "    \n",
    "    # Check if the index is a number\n",
    "    if human_player_input.isnumeric():\n",
    "    \n",
    "        # Get the board index\n",
    "        index = int(human_player_input) -1\n",
    "\n",
    "        # Check if the spot is available (i.e. --)\n",
    "        if board[index] == '--':\n",
    "            # Assign current player to the spot\n",
    "            board[index] = currentPlayer\n",
    "        else:\n",
    "            print(\"Oops player is already at that spot.\")\n",
    "    else:\n",
    "        print(\"Oops enter number between 1-9.\")\n"
   ]
  },
  {
   "cell_type": "code",
   "execution_count": null,
   "id": "24142974",
   "metadata": {},
   "outputs": [],
   "source": [
    "#5 Check for win or tie horizontally\n",
    "\n",
    "def checkHorizonal(board):\n",
    "    global winner\n",
    "    if board[0] == board[1] == board[2] and board[0] != \"--\":\n",
    "        winner = board[0]\n",
    "        return True\n",
    "    \n",
    "    elif board[3] == board[4] == board[5] and board[3] != \"--\":\n",
    "        winner = board[3]\n",
    "        return True\n",
    "    \n",
    "    elif board[6] == board[7] == board[8] and board[6] != \"--\":\n",
    "        winner = board[6]\n",
    "        return True\n",
    "    \n",
    "#6 Check for win or tie vertically\n",
    "def checkVertical(board):\n",
    "    global winner\n",
    "    if board[0] == board[3] == board[6] and board[0] != \"--\":\n",
    "        winner = board[0]\n",
    "        return True\n",
    "    \n",
    "    elif board[1] == board[4] == board[7] and board[1] != \"--\":\n",
    "        winner = board[1]\n",
    "        return True\n",
    "    \n",
    "    elif board[2] == board[5] == board[8] and board[2] != \"--\":\n",
    "        winner = board[2]\n",
    "        return True\n",
    "    \n",
    "#7 Check for win or tie diagonal\n",
    "def checkDiagonal(board):\n",
    "    global winner\n",
    "    if board[0] == board[4] == board[8] and board[0] != \"--\":\n",
    "        winner = board[0]\n",
    "        return True\n",
    "    \n",
    "    elif board[2] == board[4] == board[6] and board[2] != \"--\":\n",
    "        winner = board[2]\n",
    "        return True\n",
    "   \n",
    "\n",
    "#8 Check if there is a winner\n",
    "def checkIfWin(board):\n",
    "    global gameRunning\n",
    "\n",
    "    if checkHorizonal(board):\n",
    "        printBoard(board)\n",
    "        print(f\"The winner is {winner}!\")\n",
    "        gameRunning = False\n",
    "\n",
    "    if checkVertical(board):\n",
    "        printBoard(board)\n",
    "        print(f\"The winner is {winner}!\")\n",
    "        gameRunning = False\n",
    "\n",
    "    if checkDiagonal(board):\n",
    "        printBoard(board)\n",
    "        print(f\"The winner is {winner}!\")\n",
    "        gameRunning = False\n",
    "\n",
    "#9 Check if there is a tie\n",
    "def checkIfTie(board):\n",
    "    global gameRunning\n",
    "    if \"--\" not in board:\n",
    "        printBoard(board)\n",
    "        print(\"It is a tie!\")\n",
    "        gameRunning = False\n",
    "\n",
    "\n",
    "#10 Switch player\n",
    "\n",
    "def switchPlayer():\n",
    "    global currentPlayer\n",
    "    if currentPlayer == 'X':\n",
    "        currentPlayer = 'O'\n",
    "    else:\n",
    "        currentPlayer == 'X'\n",
    "\n",
    "#11 Computer Player Input\n",
    "def computer(board):\n",
    "    while currentPlayer == 'O':\n",
    "        position = random.randint(0,8)\n",
    "         # Check if the spot is available (i.e. --)\n",
    "        if board[position] == '--':\n",
    "            # Assign current player to the spot\n",
    "            board[position] = 'O'\n",
    "            switchPlayer()\n"
   ]
  },
  {
   "cell_type": "code",
   "execution_count": 203,
   "id": "4fb3058e",
   "metadata": {},
   "outputs": [
    {
     "name": "stdout",
     "output_type": "stream",
     "text": [
      "--|--|--\n",
      "--|--|--\n",
      "--|--|--\n",
      "position 3\n",
      "--|--|--\n",
      "O|X|--\n",
      "--|--|--\n",
      "position 0\n",
      "O|X|--\n",
      "O|X|--\n",
      "--|--|--\n",
      "O|X|--\n",
      "O|X|--\n",
      "--|X|--\n",
      "The winner is X!\n",
      "position 2\n",
      "O|X|O\n",
      "O|X|--\n",
      "--|X|--\n",
      "The winner is X!\n"
     ]
    }
   ],
   "source": [
    "# All Codes - # Tic Tact Toe Project\n",
    "\n",
    "#1 Create the boad list\n",
    "board = [\"--\", \"--\", \"--\",\n",
    "        \"--\", \"--\", \"--\",\n",
    "        \"--\", \"--\", \"--\"]\n",
    "\n",
    "\n",
    "#2. Inital variables\n",
    "currentPlayer = \"X\"\n",
    "winner = None\n",
    "gameRunning  = True\n",
    "\n",
    "#3 Game Board\n",
    "def printBoard(board):\n",
    "    print(board[0] + \"|\"  + board[1] +\"|\" + board[2])\n",
    "    print(board[3] + \"|\"  + board[4] +\"|\" + board[5])\n",
    "    print(board[6] + \"|\"  + board[7] +\"|\" + board[8])\n",
    "\n",
    "#4 Take Player Input\n",
    "def playerInput(board):\n",
    "    human_player_input = input(\"Select a spot 1-9:\")\n",
    "    \n",
    "    # Check if the index is a number\n",
    "    if human_player_input.isnumeric():\n",
    "\n",
    "        # Get the board index\n",
    "        idx = int(human_player_input) -1\n",
    "\n",
    "        # Check if the spot is available (i.e. --)\n",
    "        if board[idx] == '--':\n",
    "            # Assign current player to the spot\n",
    "            board[idx] = currentPlayer\n",
    "        else:\n",
    "            print(\"Oops player is already at that spot.\")\n",
    "        \n",
    "    else:\n",
    "        print(\"Oops enter number between 1-9.\")\n",
    "        human_player_input = input(\"Select a spot 1-9:\")\n",
    "    #5 Check for win or tie horizontally\n",
    "\n",
    "def checkHorizonal(board):\n",
    "    global winner\n",
    "    if board[0] == board[1] == board[2] and board[0] != \"--\":\n",
    "        winner = board[0]\n",
    "        return True\n",
    "    \n",
    "    elif board[3] == board[4] == board[5] and board[3] != \"--\":\n",
    "        winner = board[3]\n",
    "        return True\n",
    "    \n",
    "    elif board[6] == board[7] == board[8] and board[6] != \"--\":\n",
    "        winner = board[6]\n",
    "        return True\n",
    "    \n",
    "#6 Check for win or tie vertically\n",
    "def checkVertical(board):\n",
    "    global winner\n",
    "    if board[0] == board[3] == board[6] and board[0] != \"--\":\n",
    "        winner = board[0]\n",
    "        return True\n",
    "    \n",
    "    elif board[1] == board[4] == board[7] and board[1] != \"--\":\n",
    "        winner = board[1]\n",
    "        return True\n",
    "    \n",
    "    elif board[2] == board[5] == board[8] and board[2] != \"--\":\n",
    "        winner = board[2]\n",
    "        return True\n",
    "    \n",
    "#7 Check for win or tie diagonal\n",
    "def checkDiagonal(board):\n",
    "    global winner\n",
    "    if board[0] == board[4] == board[8] and board[0] != \"--\":\n",
    "        winner = board[0]\n",
    "        return True\n",
    "    \n",
    "    elif board[2] == board[4] == board[6] and board[2] != \"--\":\n",
    "        winner = board[2]\n",
    "        return True\n",
    "   \n",
    "\n",
    "#8 Check if there is a winner\n",
    "def checkIfWin(board):\n",
    "    global gameRunning\n",
    "\n",
    "    if checkHorizonal(board):\n",
    "        printBoard(board)\n",
    "        print(f\"The winner is {winner}!\")\n",
    "        gameRunning = False\n",
    "\n",
    "    elif checkVertical(board):\n",
    "        printBoard(board)\n",
    "        print(f\"The winner is {winner}!\")\n",
    "        gameRunning = False\n",
    "\n",
    "    elif checkDiagonal(board):\n",
    "        printBoard(board)\n",
    "        print(f\"The winner is {winner}!\")\n",
    "        gameRunning = False\n",
    "\n",
    "#9 Check if there is a tie\n",
    "def checkIfTie(board):\n",
    "    global gameRunning\n",
    "    if \"--\" not in board:\n",
    "        printBoard(board)\n",
    "        print(\"It is a tie!\")\n",
    "        gameRunning = False\n",
    "\n",
    "\n",
    "#10 Switch player\n",
    "\n",
    "def switchPlayer():\n",
    "    global currentPlayer\n",
    "    if currentPlayer == 'X':\n",
    "        currentPlayer = 'O'\n",
    "    else:\n",
    "        currentPlayer = 'X'\n",
    "\n",
    "#11 Computer Player Input\n",
    "def computer(board):\n",
    "    while currentPlayer == 'O':\n",
    "        position = random.randint(0,8)\n",
    "         # Check if the spot is available (i.e. --)\n",
    "        if board[position] == '--':\n",
    "            # Assign current player to the spot\n",
    "            board[position] = 'O'\n",
    "            print(\"position\", position)\n",
    "            switchPlayer()\n",
    "\n",
    "# Put together\n",
    "while gameRunning:\n",
    "    printBoard(board)\n",
    "    playerInput(board)\n",
    "    checkIfWin(board)\n",
    "    checkIfTie(board)\n",
    "    switchPlayer()\n",
    "    computer(board)\n",
    "    checkIfWin(board)\n",
    "    checkIfTie(board)\n",
    "    \n"
   ]
  }
 ],
 "metadata": {
  "kernelspec": {
   "display_name": "Python 3",
   "language": "python",
   "name": "python3"
  },
  "language_info": {
   "codemirror_mode": {
    "name": "ipython",
    "version": 3
   },
   "file_extension": ".py",
   "mimetype": "text/x-python",
   "name": "python",
   "nbconvert_exporter": "python",
   "pygments_lexer": "ipython3",
   "version": "3.13.3"
  }
 },
 "nbformat": 4,
 "nbformat_minor": 5
}
