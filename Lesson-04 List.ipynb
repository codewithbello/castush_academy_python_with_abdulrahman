{
 "cells": [
  {
   "cell_type": "code",
   "execution_count": null,
   "id": "07df8492",
   "metadata": {},
   "outputs": [],
   "source": [
    "# List []- List is also one of the Python literals and it mainly use for collecting\n",
    "#       other literals and objects such as int, float, string, list, tuple, set, dictionary boolean etc"
   ]
  },
  {
   "cell_type": "code",
   "execution_count": null,
   "id": "21e49e55",
   "metadata": {},
   "outputs": [
    {
     "name": "stdout",
     "output_type": "stream",
     "text": [
      "[1, 2, 3, 4, 5, 6, 7, 8, 9, 10]\n"
     ]
    }
   ],
   "source": [
    "# Syntax\n",
    "\n",
    "count = [1,2,3,4,5,6,7,8,9,10]\n",
    "print(count)"
   ]
  },
  {
   "cell_type": "code",
   "execution_count": 2,
   "id": "5ec38bae",
   "metadata": {},
   "outputs": [
    {
     "name": "stdout",
     "output_type": "stream",
     "text": [
      "<class 'list'>\n"
     ]
    }
   ],
   "source": [
    "# Check for the type\n",
    "\n",
    "print(type(count))"
   ]
  },
  {
   "cell_type": "code",
   "execution_count": 3,
   "id": "cf25a3b9",
   "metadata": {},
   "outputs": [
    {
     "name": "stdout",
     "output_type": "stream",
     "text": [
      "['apple', 'banana', 'pawpaw']\n"
     ]
    }
   ],
   "source": [
    "fruits = ['apple', 'banana', 'pawpaw']\n",
    "print(fruits)"
   ]
  },
  {
   "cell_type": "code",
   "execution_count": 4,
   "id": "36bdfcfa",
   "metadata": {},
   "outputs": [
    {
     "name": "stdout",
     "output_type": "stream",
     "text": [
      "['watch', 2, 'cap', 1, 'book', 5]\n"
     ]
    }
   ],
   "source": [
    "cart = ['watch', 2, 'cap', 1, 'book', 5]\n",
    "print(cart)"
   ]
  },
  {
   "cell_type": "code",
   "execution_count": 5,
   "id": "58a8c1b9",
   "metadata": {},
   "outputs": [
    {
     "name": "stdout",
     "output_type": "stream",
     "text": [
      "6\n"
     ]
    }
   ],
   "source": [
    "# len - Check for the number of items or elements in a list\n",
    "\n",
    "print(len(cart))"
   ]
  },
  {
   "cell_type": "code",
   "execution_count": 8,
   "id": "29e771fd",
   "metadata": {},
   "outputs": [
    {
     "name": "stdout",
     "output_type": "stream",
     "text": [
      "['blue', 'red', 'yellow', 'green']\n",
      "blue\n",
      "red\n",
      "yellow\n",
      "green\n"
     ]
    }
   ],
   "source": [
    "# Indexing - index starts from 0\n",
    "\n",
    "colours = ['blue', 'red', 'yellow', 'green']\n",
    "print(colours)\n",
    "\n",
    "# Access the first item or index 0\n",
    "\n",
    "print(colours[0])\n",
    "print(colours[1])\n",
    "print(colours[2])\n",
    "print(colours[3])"
   ]
  },
  {
   "cell_type": "code",
   "execution_count": 13,
   "id": "09e33be8",
   "metadata": {},
   "outputs": [
    {
     "name": "stdout",
     "output_type": "stream",
     "text": [
      "['blue', 'red', 'yellow', 'green']\n",
      "3\n"
     ]
    }
   ],
   "source": [
    "# Check for the index (or position) of item of a list\n",
    "colours = ['blue', 'red', 'yellow', 'green']\n",
    "print(colours)\n",
    "\n",
    "\n",
    "idx = colours.index('green')\n",
    "print(idx)"
   ]
  },
  {
   "cell_type": "code",
   "execution_count": 15,
   "id": "5e6f9f53",
   "metadata": {},
   "outputs": [
    {
     "name": "stdout",
     "output_type": "stream",
     "text": [
      "Original Staff List:\n",
      "['Sponge Bob', 'Ali Dodo', 'Adulrahman Ibrahim']\n",
      "Sorted Staff List:\n",
      "['Adulrahman Ibrahim', 'Ali Dodo', 'Sponge Bob']\n"
     ]
    }
   ],
   "source": [
    "# Other List Methods\n",
    "\n",
    "# Sort Method\n",
    "staff = ['Sponge Bob', 'Ali Dodo', 'Adulrahman Ibrahim']\n",
    "print('Original Staff List:')\n",
    "print(staff)\n",
    "\n",
    "# Let us sort the staff list\n",
    "staff.sort()\n",
    "print('Sorted Staff List:')\n",
    "print(staff)"
   ]
  },
  {
   "cell_type": "code",
   "execution_count": 16,
   "id": "55e96f7c",
   "metadata": {},
   "outputs": [
    {
     "name": "stdout",
     "output_type": "stream",
     "text": [
      "Original Staff List: ['Adulrahman Ibrahim', 'Ali Dodo', 'Sponge Bob']\n",
      "Sorted Staff List: ['Adulrahman Ibrahim', 'Ali Dodo', 'Sponge Bob']\n"
     ]
    }
   ],
   "source": [
    "# Merged Printing\n",
    "\n",
    "print('Original Staff List:', staff)\n",
    "print('Sorted Staff List:', staff)\n"
   ]
  },
  {
   "cell_type": "code",
   "execution_count": 21,
   "id": "3cc24d98",
   "metadata": {},
   "outputs": [
    {
     "name": "stdout",
     "output_type": "stream",
     "text": [
      "['Ali', 'Ahmad', 'Abdulrahman']\n",
      "['Ali', 'Ahmad', 'Abdulrahman', 'Ola']\n",
      "['a', 'b', 'c', ['d', 'e']]\n"
     ]
    }
   ],
   "source": [
    "# append Method - allows you to add new objects into your original list\n",
    "\n",
    "attendance = ['Ali', 'Ahmad', 'Abdulrahman']\n",
    "print(attendance)\n",
    "\n",
    "# Let us add to the list\n",
    "attendance.append('Ola')\n",
    "print(attendance)\n",
    "\n",
    "#Note that append only takes an object\n",
    "id_1 = ['a', 'b', 'c']\n",
    "id_2 = ['d', 'e']\n",
    "\n",
    "id_1.append(id_2)\n",
    "\n",
    "print(id_1)\n"
   ]
  },
  {
   "cell_type": "code",
   "execution_count": null,
   "id": "da28a6f3",
   "metadata": {},
   "outputs": [
    {
     "name": "stdout",
     "output_type": "stream",
     "text": [
      "['a', 'b', 'c', 'd', 'e']\n"
     ]
    }
   ],
   "source": [
    "# extend method - Is use to concatenate or join two lists together\n",
    "id_1 = ['a', 'b', 'c']\n",
    "id_2 = ['d', 'e']\n",
    "\n",
    "id_1.extend(id_2)\n",
    "\n",
    "print(id_1)"
   ]
  },
  {
   "cell_type": "code",
   "execution_count": 23,
   "id": "049f2c61",
   "metadata": {},
   "outputs": [
    {
     "name": "stdout",
     "output_type": "stream",
     "text": [
      "['Fill a form', 'Take Python Class', 'Work on Client Projects', 'Fill a form', 'Take Python Class', 'Work on Client Projects']\n"
     ]
    }
   ],
   "source": [
    "task1 = ['Fill a form', 'Take Python Class', 'Work on Client Projects']\n",
    "task2 = ['Check my emails', 'Dev Mobile Apps']\n",
    "\n",
    "# Let is merge the two lists\n",
    "\n",
    "task1.extend(task1)\n",
    "\n",
    "print(task1)\n",
    "\n",
    "\n"
   ]
  },
  {
   "cell_type": "code",
   "execution_count": 24,
   "id": "7c57914a",
   "metadata": {},
   "outputs": [
    {
     "name": "stdout",
     "output_type": "stream",
     "text": [
      "['Fill a form', 'Take Python Class', 'Work on Client Projects', [...]]\n"
     ]
    }
   ],
   "source": [
    "# If we have used append\n",
    "task1 = ['Fill a form', 'Take Python Class', 'Work on Client Projects']\n",
    "task2 = ['Check my emails', 'Dev Mobile Apps']\n",
    "\n",
    "\n",
    "task1.append(task1)\n",
    "print(task1)"
   ]
  },
  {
   "cell_type": "code",
   "execution_count": null,
   "id": "93596d70",
   "metadata": {},
   "outputs": [],
   "source": [
    "# Assignment\n",
    "# 1. Create an empty database as a list\n",
    "#2. Using the input function, add the following information to the created list\n",
    "# - name\n",
    "# - age\n",
    "# - phone number"
   ]
  }
 ],
 "metadata": {
  "kernelspec": {
   "display_name": "Python 3",
   "language": "python",
   "name": "python3"
  },
  "language_info": {
   "codemirror_mode": {
    "name": "ipython",
    "version": 3
   },
   "file_extension": ".py",
   "mimetype": "text/x-python",
   "name": "python",
   "nbconvert_exporter": "python",
   "pygments_lexer": "ipython3",
   "version": "3.13.3"
  }
 },
 "nbformat": 4,
 "nbformat_minor": 5
}
