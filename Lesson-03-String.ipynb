{
 "cells": [
  {
   "cell_type": "code",
   "execution_count": null,
   "id": "52f40e43",
   "metadata": {},
   "outputs": [
    {
     "name": "stdout",
     "output_type": "stream",
     "text": [
      "hello\n"
     ]
    }
   ],
   "source": [
    "# String - is one of the Python literals. It is enclosed in either an apostrophe or quotation mark\n",
    "\n",
    "greet = 'hello'\n",
    "print(greet)\n",
    "\n",
    "# What to learn:\n",
    "# 1. String syntax\n",
    "# 2. string methods\n",
    "# 3. len\n",
    "# 4. indexing\n",
    "# 5. string concatenation\n",
    "# 6. f-string\n",
    "# 7. input function\n",
    "# 8. simple project/ class work\n",
    "# 9. handling complex string\n"
   ]
  },
  {
   "cell_type": "code",
   "execution_count": 3,
   "id": "c6d99f2e",
   "metadata": {},
   "outputs": [
    {
     "name": "stdout",
     "output_type": "stream",
     "text": [
      "<class 'str'>\n"
     ]
    }
   ],
   "source": [
    "# We can check the type of greet\n",
    "\n",
    "print(type(greet))"
   ]
  },
  {
   "cell_type": "code",
   "execution_count": 4,
   "id": "a7508831",
   "metadata": {},
   "outputs": [
    {
     "name": "stdout",
     "output_type": "stream",
     "text": [
      "The cat is grumpy\n"
     ]
    }
   ],
   "source": [
    "sentence = \"The cat is grumpy\"\n",
    "print(sentence)"
   ]
  },
  {
   "cell_type": "code",
   "execution_count": null,
   "id": "9a8bb497",
   "metadata": {},
   "outputs": [
    {
     "name": "stdout",
     "output_type": "stream",
     "text": [
      "abdulrahman\n",
      "ABDULRAHMAN\n"
     ]
    }
   ],
   "source": [
    "# Methods\n",
    "\n",
    "    # Text Transformation\n",
    "\n",
    "#1 .upper()\n",
    "name = 'abdulrahman'\n",
    "print(name)\n",
    "\n",
    "# Task: Change name to upper case\n",
    "name = name.upper()\n",
    "print(name)\n",
    "\n",
    "#📌Note: .upper() is a method"
   ]
  },
  {
   "cell_type": "code",
   "execution_count": 10,
   "id": "d09dd072",
   "metadata": {},
   "outputs": [
    {
     "name": "stdout",
     "output_type": "stream",
     "text": [
      "LAPTOP\n",
      "laptop\n",
      "Laptop\n"
     ]
    }
   ],
   "source": [
    "#2 .lower()\n",
    "\n",
    "item = 'LAPTOP'\n",
    "print(item)\n",
    "\n",
    "# Task: change it to a lowercase\n",
    "\n",
    "item = item.lower()\n",
    "print(item)\n",
    "\n",
    "#3 .title()\n",
    "\n",
    "item = item.title()\n",
    "print(item)\n"
   ]
  },
  {
   "cell_type": "code",
   "execution_count": 12,
   "id": "eb4ff88e",
   "metadata": {},
   "outputs": [
    {
     "name": "stdout",
     "output_type": "stream",
     "text": [
      "usefulness of python programming language to human being\n",
      "Usefulness Of Python Programming Language To Human Being\n"
     ]
    }
   ],
   "source": [
    "project_topic = 'usefulness of python programming language to human being'\n",
    "print(project_topic)\n",
    "\n",
    "formated_project_topic = project_topic.title()\n",
    "print(formated_project_topic)\n"
   ]
  },
  {
   "cell_type": "code",
   "execution_count": 16,
   "id": "6dc4f4d7",
   "metadata": {},
   "outputs": [
    {
     "name": "stdout",
     "output_type": "stream",
     "text": [
      "ali dodo\n",
      "Ali dodo\n",
      "Ali Dodo\n"
     ]
    }
   ],
   "source": [
    "fullname = 'ali dodo'\n",
    "print(fullname)\n",
    "\n",
    "fullname = fullname.capitalize()\n",
    "print(fullname)\n",
    "\n",
    "\n",
    "fullname = fullname.title()\n",
    "print(fullname)"
   ]
  },
  {
   "cell_type": "code",
   "execution_count": 17,
   "id": "5c07278e",
   "metadata": {},
   "outputs": [
    {
     "name": "stdout",
     "output_type": "stream",
     "text": [
      "16\n"
     ]
    }
   ],
   "source": [
    "# How to check the length or the number of letter/characters in a string\n",
    "\n",
    "course = 'computer science'\n",
    "\n",
    "#Task: How many letters are in the course or\n",
    "# how long is the string course?\n",
    "\n",
    "ln =  len(course)\n",
    "print(ln)"
   ]
  },
  {
   "cell_type": "code",
   "execution_count": 19,
   "id": "7ba275c9",
   "metadata": {},
   "outputs": [
    {
     "name": "stdout",
     "output_type": "stream",
     "text": [
      "7\n"
     ]
    }
   ],
   "source": [
    "name = 'Castush'\n",
    "\n",
    "# How long 'Castush'\n",
    "\n",
    "ln = len(name)\n",
    "print(ln)"
   ]
  },
  {
   "cell_type": "code",
   "execution_count": 23,
   "id": "6b27db32",
   "metadata": {},
   "outputs": [
    {
     "name": "stdout",
     "output_type": "stream",
     "text": [
      "C\n",
      "a\n",
      "s\n",
      "t\n",
      "u\n",
      "s\n",
      "h\n"
     ]
    }
   ],
   "source": [
    "# Indexing - Indexing in Python begin from 0\n",
    "\n",
    "# Lets get letter 'C'\n",
    "\n",
    "print(name[0])\n",
    "print(name[1])\n",
    "print(name[2])\n",
    "print(name[3])\n",
    "print(name[4])\n",
    "print(name[5])\n",
    "print(name[6])\n",
    "\n",
    "\n"
   ]
  },
  {
   "cell_type": "code",
   "execution_count": 26,
   "id": "c99a40fb",
   "metadata": {},
   "outputs": [
    {
     "name": "stdout",
     "output_type": "stream",
     "text": [
      "s\n",
      "S\n"
     ]
    }
   ],
   "source": [
    "letter_S = name[2]\n",
    "print(letter_S)\n",
    "\n",
    "# Let is capitalize it\n",
    "\n",
    "letter_S = letter_S.capitalize()\n",
    "print(letter_S)"
   ]
  },
  {
   "cell_type": "code",
   "execution_count": 30,
   "id": "371f00f2",
   "metadata": {},
   "outputs": [
    {
     "name": "stdout",
     "output_type": "stream",
     "text": [
      "0\n",
      "3\n"
     ]
    }
   ],
   "source": [
    "# We can also get the index of a letter\n",
    "\n",
    "fruit = 'apple'\n",
    "\n",
    "# What is the index of letter 'a'\n",
    "\n",
    "idx = fruit.index('a')\n",
    "print(idx)\n",
    "\n",
    "print(fruit.index('l'))\n"
   ]
  },
  {
   "cell_type": "code",
   "execution_count": 35,
   "id": "7876c931",
   "metadata": {},
   "outputs": [
    {
     "name": "stdout",
     "output_type": "stream",
     "text": [
      "500\n",
      "<class 'str'>\n",
      "500\n",
      "<class 'int'>\n"
     ]
    }
   ],
   "source": [
    "# Casting - Means chaning a string to a number or a numberto a string\n",
    "\n",
    "price = '500'\n",
    "print(price)\n",
    "print(type(price))\n",
    "\n",
    "# Task: Change the price from str to int (a number)\n",
    "\n",
    "price = int(price)\n",
    "print(price)\n",
    "print(type(price))\n"
   ]
  },
  {
   "cell_type": "code",
   "execution_count": 37,
   "id": "f4ec4b65",
   "metadata": {},
   "outputs": [
    {
     "name": "stdout",
     "output_type": "stream",
     "text": [
      "<class 'str'>\n",
      "<class 'float'>\n"
     ]
    }
   ],
   "source": [
    "value = '12.5'\n",
    "print(type(value))\n",
    "\n",
    "# Change value from a str to a float\n",
    "value = float(value)\n",
    "print(type(value))"
   ]
  },
  {
   "cell_type": "code",
   "execution_count": 40,
   "id": "3f2a5bda",
   "metadata": {},
   "outputs": [
    {
     "name": "stdout",
     "output_type": "stream",
     "text": [
      "<class 'int'>\n",
      "<class 'str'>\n"
     ]
    }
   ],
   "source": [
    "# We can also change an int or float to a string\n",
    "\n",
    "amount = 987\n",
    "print(type(amount))\n",
    "# Cast it to a string\n",
    "\n",
    "amount = str(amount)\n",
    "print(type(amount))"
   ]
  },
  {
   "cell_type": "code",
   "execution_count": 43,
   "id": "c9cec2d9",
   "metadata": {},
   "outputs": [
    {
     "name": "stdout",
     "output_type": "stream",
     "text": [
      "hello,\n",
      "Abdulrahman\n",
      "hello,Abdulrahman\n"
     ]
    }
   ],
   "source": [
    "# String Concatination - means joining to strings together\n",
    "\n",
    "word1 = 'hello,'\n",
    "print(word1)\n",
    "\n",
    "word2 = 'Abdulrahman'\n",
    "print(word2)\n",
    "\n",
    "# Concatenate word1 and word2\n",
    "word = word1 + word2\n",
    "print(word)\n",
    "\n",
    "\n"
   ]
  },
  {
   "cell_type": "code",
   "execution_count": 45,
   "id": "f4e95031",
   "metadata": {},
   "outputs": [
    {
     "name": "stdout",
     "output_type": "stream",
     "text": [
      "hello,\n",
      "Abdulrahman\n",
      "hello, Abdulrahman\n"
     ]
    }
   ],
   "source": [
    "# Note that, there suppose to be a space after the comma\n",
    "\n",
    "word1 = 'hello,'\n",
    "print(word1)\n",
    "\n",
    "word2 = 'Abdulrahman'\n",
    "print(word2)\n",
    "\n",
    "# Concatenate word1 and word2\n",
    "word = word1 + ' '+ word2\n",
    "print(word)"
   ]
  },
  {
   "cell_type": "code",
   "execution_count": 49,
   "id": "91a4043b",
   "metadata": {},
   "outputs": [
    {
     "name": "stdout",
     "output_type": "stream",
     "text": [
      "The total amount is4000\n",
      "The total amount is 4000\n"
     ]
    }
   ],
   "source": [
    "price = 2000\n",
    "qty = 2\n",
    "total = price * qty\n",
    "\n",
    "remark = 'The total amount is' + str(total)\n",
    "print(remark)\n",
    "\n",
    "\n",
    "# Better result\n",
    "remark = 'The total amount is ' + str(total)\n",
    "print(remark)"
   ]
  },
  {
   "cell_type": "code",
   "execution_count": 54,
   "id": "d072e66e",
   "metadata": {},
   "outputs": [
    {
     "name": "stdout",
     "output_type": "stream",
     "text": [
      "The total amount is 4000\n"
     ]
    }
   ],
   "source": [
    "# f -string - string formatting\n",
    "# It allows us to pass values or variables inside of a string\n",
    "\n",
    "price = 2000\n",
    "qty = 2\n",
    "total = price * qty\n",
    "\n",
    "remark = f'The total amount is {total}'\n",
    "print(remark)\n"
   ]
  },
  {
   "cell_type": "code",
   "execution_count": 55,
   "id": "2bbfb393",
   "metadata": {},
   "outputs": [
    {
     "name": "stdout",
     "output_type": "stream",
     "text": [
      "Mr Abdulrahman, your account balance is 1000000\n"
     ]
    }
   ],
   "source": [
    "name = 'Abdulrahman'\n",
    "balance = 1000000\n",
    "message = f'Mr {name}, your account balance is {balance}'\n",
    "\n",
    "print(message)"
   ]
  },
  {
   "cell_type": "code",
   "execution_count": 57,
   "id": "45ec12dd",
   "metadata": {},
   "outputs": [
    {
     "name": "stdout",
     "output_type": "stream",
     "text": [
      "Ali is 12 years old\n"
     ]
    }
   ],
   "source": [
    "# Input - It allows us to accepts values from ther terminal\n",
    "\n",
    "name = input('What is your name?')\n",
    "age = input('How old are you')\n",
    "\n",
    "display = f'{name} is {age} years old'\n",
    "print(display)"
   ]
  },
  {
   "cell_type": "code",
   "execution_count": null,
   "id": "45cff563",
   "metadata": {},
   "outputs": [
    {
     "name": "stdout",
     "output_type": "stream",
     "text": [
      "Sponge Bob\n",
      "<class 'str'>\n",
      "2023\n",
      "<class 'str'>\n"
     ]
    }
   ],
   "source": [
    "name = input('What is your name?')\n",
    "birthYear = input('What year are you born?')\n",
    "\n",
    "print(name)\n",
    "print(type(name))\n",
    "\n",
    "print(birthYear)\n",
    "print(type(birthYear))\n",
    "\n",
    "#📌input() function always return a str. Therefore, cast to an int or float for mathematical calculations"
   ]
  },
  {
   "cell_type": "code",
   "execution_count": 60,
   "id": "3686d48e",
   "metadata": {},
   "outputs": [
    {
     "name": "stdout",
     "output_type": "stream",
     "text": [
      "Sponge Bob is 25 years old\n"
     ]
    }
   ],
   "source": [
    "name = input('What is your name?')\n",
    "birthYear = input('What year are you born?')\n",
    "\n",
    "currentYear = 2025\n",
    "\n",
    "# cast birthYear to an int\n",
    "birthYear = int(birthYear)\n",
    "age = currentYear - birthYear\n",
    "\n",
    "display = f'{name} is {age} years old'\n",
    "print(display)"
   ]
  },
  {
   "cell_type": "code",
   "execution_count": null,
   "id": "f0e74925",
   "metadata": {},
   "outputs": [],
   "source": [
    "# Write a program to mimic a bank that accepts deposit. \n",
    "# Assuming the balance = 0\n",
    "# You are to display the account holder's name and its increased balance from the desposits"
   ]
  }
 ],
 "metadata": {
  "kernelspec": {
   "display_name": "Python 3",
   "language": "python",
   "name": "python3"
  },
  "language_info": {
   "codemirror_mode": {
    "name": "ipython",
    "version": 3
   },
   "file_extension": ".py",
   "mimetype": "text/x-python",
   "name": "python",
   "nbconvert_exporter": "python",
   "pygments_lexer": "ipython3",
   "version": "3.13.3"
  }
 },
 "nbformat": 4,
 "nbformat_minor": 5
}
