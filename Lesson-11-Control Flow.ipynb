{
 "cells": [
  {
   "cell_type": "code",
   "execution_count": 1,
   "id": "73d3797d",
   "metadata": {},
   "outputs": [
    {
     "name": "stdout",
     "output_type": "stream",
     "text": [
      "1\n",
      "2\n",
      "3\n",
      "4\n",
      "5\n"
     ]
    }
   ],
   "source": [
    "# For Loop - It allows us to iterate\n",
    "\n",
    "nums = [1,2,3,4,5]\n",
    "\n",
    "\n",
    "for n in nums:\n",
    "    print(n)\n",
    "\n"
   ]
  },
  {
   "cell_type": "code",
   "execution_count": 2,
   "id": "f3e9267e",
   "metadata": {},
   "outputs": [
    {
     "name": "stdout",
     "output_type": "stream",
     "text": [
      "1\n",
      "4\n",
      "9\n",
      "16\n",
      "25\n"
     ]
    }
   ],
   "source": [
    "# Let is square each values in the list\n",
    "nums = [1,2,3,4,5]\n",
    "\n",
    "\n",
    "for n in nums:\n",
    "    ans = n**2\n",
    "    print(ans)\n"
   ]
  },
  {
   "cell_type": "code",
   "execution_count": 6,
   "id": "ff6eb2db",
   "metadata": {},
   "outputs": [
    {
     "name": "stdout",
     "output_type": "stream",
     "text": [
      "[{'name': 'Bob', 'age': 18}, {'name': 'Ali', 'age': 20}, {'name': 'Tom', 'age': 21}]\n",
      "Bob\n",
      "Ali\n",
      "Tom\n"
     ]
    }
   ],
   "source": [
    "employees = [ {\"name\":\"Bob\",\"age\":18} ,{\"name\":\"Ali\", \"age\":20},{ \"name\": \"Tom\", \"age\":21}]\n",
    "print(employees)\n",
    "\n",
    "# Write a program to get the names from the list\n",
    "\n",
    "for emp in employees:\n",
    "    name = emp.get(\"name\")\n",
    "    print(name)"
   ]
  },
  {
   "cell_type": "code",
   "execution_count": null,
   "id": "e6dddd64",
   "metadata": {},
   "outputs": [
    {
     "name": "stdout",
     "output_type": "stream",
     "text": [
      "apple\n",
      "banana\n",
      "mango\n",
      "pineapple\n"
     ]
    }
   ],
   "source": [
    "fruits = ['apple', 'banana', 'mango', 'pineapple']\n",
    "\n",
    "\n",
    "for f in fruits:\n",
    "    print(f)\n"
   ]
  },
  {
   "cell_type": "code",
   "execution_count": null,
   "id": "443c24c9",
   "metadata": {},
   "outputs": [
    {
     "name": "stdout",
     "output_type": "stream",
     "text": [
      "Apple\n",
      "Banana\n",
      "Mango\n",
      "Pineapple\n"
     ]
    }
   ],
   "source": [
    "# Let us capitalize each of the friuts\n",
    "\n",
    "for fruit in fruits:\n",
    "    fmtd_fruit = fruit.capitalize()\n",
    "    print(fmtd_fruit)"
   ]
  },
  {
   "cell_type": "code",
   "execution_count": 9,
   "id": "869b5283",
   "metadata": {},
   "outputs": [
    {
     "name": "stdout",
     "output_type": "stream",
     "text": [
      "banana\n",
      "pineapple\n"
     ]
    }
   ],
   "source": [
    "# Filter the fruits that has length > 5\n",
    "\n",
    "for f in fruits:\n",
    "    if len(f) > 5:\n",
    "        print(f)"
   ]
  },
  {
   "cell_type": "code",
   "execution_count": 10,
   "id": "c2f7bbb3",
   "metadata": {},
   "outputs": [
    {
     "name": "stdout",
     "output_type": "stream",
     "text": [
      "0\n",
      "1\n",
      "2\n",
      "3\n",
      "4\n",
      "5\n",
      "6\n"
     ]
    }
   ],
   "source": [
    "# Loop using range\n",
    "\n",
    "colours = ['red', 'blue', 'orange', 'black', 'white', 'yellow', 'purple']\n",
    "\n",
    "for k in range(0, len(colours)):\n",
    "    print(k)"
   ]
  },
  {
   "cell_type": "code",
   "execution_count": 11,
   "id": "818bb51c",
   "metadata": {},
   "outputs": [
    {
     "name": "stdout",
     "output_type": "stream",
     "text": [
      "red\n",
      "blue\n",
      "orange\n",
      "black\n",
      "white\n",
      "yellow\n",
      "purple\n"
     ]
    }
   ],
   "source": [
    "\n",
    "colours = ['red', 'blue', 'orange', 'black', 'white', 'yellow', 'purple']\n",
    "\n",
    "for k in range(0, len(colours)):\n",
    "    print(colours[k])"
   ]
  },
  {
   "cell_type": "code",
   "execution_count": 13,
   "id": "d9372180",
   "metadata": {},
   "outputs": [
    {
     "name": "stdout",
     "output_type": "stream",
     "text": [
      "0\n",
      "2\n",
      "4\n",
      "6\n",
      "red\n",
      "orange\n",
      "white\n",
      "purple\n"
     ]
    }
   ],
   "source": [
    "# Steps\n",
    "\n",
    "colours = ['red', 'blue', 'orange', 'black', 'white', 'yellow', 'purple']\n",
    "\n",
    "for k in range(0, len(colours), 2):\n",
    "    print(k)\n",
    "\n",
    "\n",
    "for k in range(0, len(colours), 2):\n",
    "    print(colours[k])"
   ]
  },
  {
   "cell_type": "code",
   "execution_count": 14,
   "id": "6a229698",
   "metadata": {},
   "outputs": [
    {
     "name": "stdout",
     "output_type": "stream",
     "text": [
      "100\n"
     ]
    }
   ],
   "source": [
    "records = [50000, 100000, 30000, 2000000, 100]\n",
    "\n",
    "for r in records:\n",
    "    if r == 100:\n",
    "        print(r)"
   ]
  },
  {
   "cell_type": "code",
   "execution_count": null,
   "id": "d8442028",
   "metadata": {},
   "outputs": [],
   "source": []
  }
 ],
 "metadata": {
  "kernelspec": {
   "display_name": "Python 3",
   "language": "python",
   "name": "python3"
  },
  "language_info": {
   "codemirror_mode": {
    "name": "ipython",
    "version": 3
   },
   "file_extension": ".py",
   "mimetype": "text/x-python",
   "name": "python",
   "nbconvert_exporter": "python",
   "pygments_lexer": "ipython3",
   "version": "3.13.3"
  }
 },
 "nbformat": 4,
 "nbformat_minor": 5
}
