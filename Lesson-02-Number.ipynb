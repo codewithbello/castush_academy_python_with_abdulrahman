{
 "cells": [
  {
   "cell_type": "code",
   "execution_count": 4,
   "id": "a48c069a",
   "metadata": {},
   "outputs": [
    {
     "name": "stdout",
     "output_type": "stream",
     "text": [
      "8000\n",
      "32000\n"
     ]
    }
   ],
   "source": [
    "# Lesson -2: Numbers\n",
    "\n",
    "# In Python, a number can either be an interger or a float\n",
    "\n",
    "# Interger or int - are whole numbers\n",
    "\n",
    "price = 8000\n",
    "\n",
    "print(price)\n",
    "\n",
    "qty = 4\n",
    "\n",
    "total = price * qty\n",
    "\n",
    "print(total)\n",
    "\n"
   ]
  },
  {
   "cell_type": "code",
   "execution_count": 7,
   "id": "ef843246",
   "metadata": {},
   "outputs": [
    {
     "name": "stdout",
     "output_type": "stream",
     "text": [
      "9500.0\n"
     ]
    }
   ],
   "source": [
    "# float - floats are numbers with decimal points\n",
    "\n",
    "discount = 0.05   # 5%\n",
    "original_price = 10000\n",
    "\n",
    "final_price = original_price - (original_price*discount)\n",
    "\n",
    "print(final_price)\n",
    "\n",
    "#📌 Note here that we have use BODMAS"
   ]
  },
  {
   "cell_type": "code",
   "execution_count": 14,
   "id": "7572e719",
   "metadata": {},
   "outputs": [
    {
     "name": "stdout",
     "output_type": "stream",
     "text": [
      "16\n",
      "2\n",
      "10000\n",
      "17500.0\n",
      "4\n",
      "343\n"
     ]
    }
   ],
   "source": [
    "# Addition\n",
    "num1 =  7\n",
    "num2 = 9\n",
    "num = num1 + num2\n",
    "print(num)\n",
    "\n",
    "\n",
    "# Subtraction\n",
    "num = num2 - num1\n",
    "print(num)\n",
    "\n",
    "# Multiplication\n",
    "principal = 5000\n",
    "rate = 2\n",
    "investment = principal * rate\n",
    "print(investment)\n",
    "\n",
    "\n",
    "# Division\n",
    "amount = 70000\n",
    "numOfPeople = 4\n",
    "share = amount/numOfPeople\n",
    "\n",
    "print(share)\n",
    "\n",
    "\n",
    "# Raise to Power\n",
    "\n",
    "# 2 * 2\n",
    "ans = 2**2\n",
    "print(ans)\n",
    "\n",
    "ans = 7**3  # 7*7*7\n",
    "print(ans)\n"
   ]
  },
  {
   "cell_type": "code",
   "execution_count": null,
   "id": "0703d0c0",
   "metadata": {},
   "outputs": [],
   "source": [
    "# Assignment\n",
    "# Write a program to calculate a person's Body Mass Index (BMI) using the formular below:\n",
    "# BMI = weight/square of the height\n"
   ]
  },
  {
   "cell_type": "code",
   "execution_count": null,
   "id": "8b67f6ac",
   "metadata": {},
   "outputs": [],
   "source": [
    "# Other Useful Tips\n",
    "\n",
    "count = 0\n",
    "\n",
    "print(count)"
   ]
  },
  {
   "cell_type": "code",
   "execution_count": null,
   "id": "2e8ade08",
   "metadata": {},
   "outputs": [],
   "source": [
    "# Let increase count by a certain number\n",
    "count = count + 1\n",
    "print(count)"
   ]
  },
  {
   "cell_type": "code",
   "execution_count": null,
   "id": "436c6bb1",
   "metadata": {},
   "outputs": [],
   "source": [
    "# We can use the short form\n",
    "count += 1\n",
    "print(count)\n",
    "\n",
    "\n",
    "# Note: The same applies for subtraction and multiplication"
   ]
  },
  {
   "cell_type": "code",
   "execution_count": 2,
   "id": "20978221",
   "metadata": {},
   "outputs": [
    {
     "name": "stdout",
     "output_type": "stream",
     "text": [
      "<class 'int'>\n",
      "<class 'float'>\n"
     ]
    }
   ],
   "source": [
    "a = 10\n",
    "b = 3.142\n",
    "\n",
    "print(type(a))\n",
    "print(type(b))"
   ]
  }
 ],
 "metadata": {
  "kernelspec": {
   "display_name": "Python 3",
   "language": "python",
   "name": "python3"
  },
  "language_info": {
   "codemirror_mode": {
    "name": "ipython",
    "version": 3
   },
   "file_extension": ".py",
   "mimetype": "text/x-python",
   "name": "python",
   "nbconvert_exporter": "python",
   "pygments_lexer": "ipython3",
   "version": "3.13.3"
  }
 },
 "nbformat": 4,
 "nbformat_minor": 5
}
