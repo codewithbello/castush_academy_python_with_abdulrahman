{
 "cells": [
  {
   "cell_type": "code",
   "execution_count": 3,
   "id": "886df5ce",
   "metadata": {},
   "outputs": [
    {
     "name": "stdout",
     "output_type": "stream",
     "text": [
      "Hello, how are you doing?\n"
     ]
    }
   ],
   "source": [
    "# Function\n",
    "\n",
    "# Example 1\n",
    "def greet():\n",
    "    print(\"Hello, how are you doing?\")\n",
    "\n",
    "\n",
    "# Calling/running/executing a function\n",
    "greet()"
   ]
  },
  {
   "cell_type": "code",
   "execution_count": 8,
   "id": "8dab5f27",
   "metadata": {},
   "outputs": [
    {
     "name": "stdout",
     "output_type": "stream",
     "text": [
      "The answer is 5\n"
     ]
    }
   ],
   "source": [
    "# Example 2 -This is a function that takes two arguments\n",
    "\n",
    "# Note: num1 and num2 are called parameters in the function defination\n",
    "def add(num1,num2):\n",
    "    ans = num1 + num2\n",
    "    print(f\"The answer is {ans}\")\n",
    "\n",
    "\n",
    "# Note: num1 and num2 are called arguments or args in the function execution\n",
    "add(2,3)"
   ]
  },
  {
   "cell_type": "code",
   "execution_count": null,
   "id": "19a66a15",
   "metadata": {},
   "outputs": [
    {
     "name": "stdout",
     "output_type": "stream",
     "text": [
      "62.839999999999996\n"
     ]
    }
   ],
   "source": [
    "# Example 3 - Function that returns something\n",
    "\n",
    "def calArea(r):\n",
    "    PI = 3.142\n",
    "    area = 2 * PI * r\n",
    "    return area\n",
    "\n",
    "\n",
    "answer = calArea(10)\n",
    "print(answer)"
   ]
  },
  {
   "cell_type": "code",
   "execution_count": 12,
   "id": "5e48563e",
   "metadata": {},
   "outputs": [
    {
     "name": "stdout",
     "output_type": "stream",
     "text": [
      "17.301038062283737\n"
     ]
    }
   ],
   "source": [
    "def BMI(weight, height):\n",
    "    bmi = weight/height**2\n",
    "    return bmi\n",
    "\n",
    "\n",
    "myBMI = BMI(50,1.7)\n",
    "print(myBMI)"
   ]
  },
  {
   "cell_type": "code",
   "execution_count": 15,
   "id": "55dcc6fa",
   "metadata": {},
   "outputs": [
    {
     "name": "stdout",
     "output_type": "stream",
     "text": [
      "My name is Mr Bean\n",
      "My name is Bean Mr\n"
     ]
    }
   ],
   "source": [
    "def Intro(name, title):\n",
    "    msg = f\"My name is {title} {name}\"\n",
    "    print(msg)\n",
    "\n",
    "\n",
    "Intro(\"Bean\", \"Mr\")\n",
    "\n",
    "# Swapping in Error\n",
    "\n",
    "Intro(\"Mr\", \"Bean\")"
   ]
  },
  {
   "cell_type": "code",
   "execution_count": null,
   "id": "c098881d",
   "metadata": {},
   "outputs": [
    {
     "name": "stdout",
     "output_type": "stream",
     "text": [
      "My name is Mr Bean\n"
     ]
    }
   ],
   "source": [
    "# Solution of positional argument is using key\n",
    "def Intro(name, title):\n",
    "    msg = f\"My name is {title} {name}\"\n",
    "    print(msg)\n",
    "\n",
    "# Using keys for arguments\n",
    "Intro(title=\"Mr\", name=\"Bean\")"
   ]
  },
  {
   "cell_type": "code",
   "execution_count": 20,
   "id": "1c7ee284",
   "metadata": {},
   "outputs": [
    {
     "name": "stdout",
     "output_type": "stream",
     "text": [
      "100000\n"
     ]
    }
   ],
   "source": [
    "# Function with Default values\n",
    "def Investment(amount, multiplier = 2):\n",
    "    value = amount * multiplier\n",
    "    return value\n",
    "\n",
    "\n",
    "ROI = Investment(50000)\n",
    "print(ROI)"
   ]
  },
  {
   "cell_type": "code",
   "execution_count": 35,
   "id": "a2827253",
   "metadata": {},
   "outputs": [
    {
     "name": "stdout",
     "output_type": "stream",
     "text": [
      "Accepts interger onyly. Error caused by: unsupported operand type(s) for -: 'int' and 'str'\n",
      "None\n",
      "26\n"
     ]
    }
   ],
   "source": [
    "from datetime import datetime\n",
    "\n",
    "\n",
    "def getAge(birthYear):\n",
    "    date =  datetime.now()\n",
    "    currentYear = date.year\n",
    "    age = None\n",
    "    try:\n",
    "        age = currentYear - birthYear\n",
    "\n",
    "    except Exception as e:\n",
    "        print(\"Accepts interger onyly. Error caused by:\",e)\n",
    "    return age\n",
    "\n",
    "\n",
    "myAge = getAge(\"twenty-five\")\n",
    "print(myAge)\n",
    "\n",
    "myAge = getAge(1999)\n",
    "print(myAge)"
   ]
  }
 ],
 "metadata": {
  "kernelspec": {
   "display_name": "Python 3",
   "language": "python",
   "name": "python3"
  },
  "language_info": {
   "codemirror_mode": {
    "name": "ipython",
    "version": 3
   },
   "file_extension": ".py",
   "mimetype": "text/x-python",
   "name": "python",
   "nbconvert_exporter": "python",
   "pygments_lexer": "ipython3",
   "version": "3.13.3"
  }
 },
 "nbformat": 4,
 "nbformat_minor": 5
}
