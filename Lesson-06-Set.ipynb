{
 "cells": [
  {
   "cell_type": "code",
   "execution_count": null,
   "id": "5a45eacb",
   "metadata": {},
   "outputs": [
    {
     "name": "stdout",
     "output_type": "stream",
     "text": [
      "{'blue', 'red', 'green', 'yellow'}\n"
     ]
    }
   ],
   "source": [
    "# Set  {}\n",
    "\n",
    "colours = {'blue', 'red', 'green', 'yellow', 'blue'}\n",
    "print(colours)\n",
    "\n",
    "# Note: Set removes duplicates and does not follow order\n"
   ]
  },
  {
   "cell_type": "code",
   "execution_count": 13,
   "id": "cb11d473",
   "metadata": {},
   "outputs": [
    {
     "data": {
      "text/plain": [
       "{'blue', 'green', 'red', 'yellow'}"
      ]
     },
     "execution_count": 13,
     "metadata": {},
     "output_type": "execute_result"
    }
   ],
   "source": [
    "colours"
   ]
  },
  {
   "cell_type": "code",
   "execution_count": 17,
   "id": "e12ed5e1",
   "metadata": {},
   "outputs": [
    {
     "name": "stdout",
     "output_type": "stream",
     "text": [
      "Error!\n"
     ]
    }
   ],
   "source": [
    "try:\n",
    "    colours[0]  \n",
    "except TypeError:\n",
    "    print('Error!')"
   ]
  },
  {
   "cell_type": "code",
   "execution_count": 20,
   "id": "8702fc84",
   "metadata": {},
   "outputs": [
    {
     "name": "stdout",
     "output_type": "stream",
     "text": [
      "Error! 'set' object is not subscriptable\n"
     ]
    }
   ],
   "source": [
    "try:\n",
    "    colours[0]  \n",
    "except Exception as e:\n",
    "    print('Error!', e)"
   ]
  },
  {
   "cell_type": "code",
   "execution_count": 21,
   "id": "685c8a45",
   "metadata": {},
   "outputs": [
    {
     "name": "stdout",
     "output_type": "stream",
     "text": [
      "{'Toyota', 'Honda'}\n"
     ]
    }
   ],
   "source": [
    "# One can add and remove to a set\n",
    "\n",
    "car_brands = {'Toyota', 'Honda'}\n",
    "print(car_brands)"
   ]
  },
  {
   "cell_type": "code",
   "execution_count": 23,
   "id": "e5f78eff",
   "metadata": {},
   "outputs": [
    {
     "name": "stdout",
     "output_type": "stream",
     "text": [
      "{'Toyota', 'Honda', 'BMW'}\n",
      "{'Lexus', 'Toyota', 'Honda', 'BMW'}\n"
     ]
    }
   ],
   "source": [
    "# How can I add to the set\n",
    "car_brands.add('BMW')\n",
    "print(car_brands)\n",
    "\n",
    "car_brands.add('Lexus')\n",
    "print(car_brands)"
   ]
  },
  {
   "cell_type": "code",
   "execution_count": 25,
   "id": "bd6efef8",
   "metadata": {},
   "outputs": [
    {
     "name": "stdout",
     "output_type": "stream",
     "text": [
      "{'watermelon', 'pineapple', 'banana', 'date', 'apple', 'mango'}\n"
     ]
    }
   ],
   "source": [
    "# Union\n",
    "set_a = {'apple', 'banana', 'watermelon'}\n",
    "set_b = {'banana', 'pineapple', 'date', 'mango'}\n",
    "\n",
    "all_fruits = set_a.union(set_b)\n",
    "print(all_fruits)\n",
    "\n",
    "# Note:\n",
    "# Union combines both sets and remove duplicates"
   ]
  },
  {
   "cell_type": "code",
   "execution_count": null,
   "id": "341238c6",
   "metadata": {},
   "outputs": [
    {
     "name": "stdout",
     "output_type": "stream",
     "text": [
      "{'banana'}\n"
     ]
    }
   ],
   "source": [
    "# Intersection\n",
    "set_a = {'apple', 'banana', 'watermelon'}\n",
    "set_b = {'banana', 'pineapple', 'date', 'mango'}\n",
    "common_items = set_a.intersection(set_b)\n",
    "print(common_items)\n",
    "\n",
    "# Notes\n",
    "# Intersection - gives the items common to both sets"
   ]
  },
  {
   "cell_type": "code",
   "execution_count": 28,
   "id": "99eeee67",
   "metadata": {},
   "outputs": [
    {
     "name": "stdout",
     "output_type": "stream",
     "text": [
      "{'apple', 'watermelon'}\n"
     ]
    }
   ],
   "source": [
    "# Difference\n",
    "set_a = {'apple', 'banana', 'watermelon'}\n",
    "set_b = {'banana', 'pineapple', 'date', 'mango'}\n",
    "\n",
    "check_diff = set_a.difference(set_b)\n",
    "print(check_diff)\n",
    "\n",
    "# Notes\n",
    "# Difference gives items in SET A that is not in SET B"
   ]
  },
  {
   "cell_type": "code",
   "execution_count": 29,
   "id": "7a2405c9",
   "metadata": {},
   "outputs": [
    {
     "name": "stdout",
     "output_type": "stream",
     "text": [
      "{'watermelon', 'apple', 'pineapple', 'date', 'mango'}\n"
     ]
    }
   ],
   "source": [
    "# Symmetry Difference\n",
    "set_a = {'apple', 'banana', 'watermelon'}\n",
    "set_b = {'banana', 'pineapple', 'date', 'mango'}\n",
    "\n",
    "check_sym_diff = set_a.symmetric_difference(set_b)\n",
    "print(check_sym_diff)\n",
    "\n",
    "\n",
    "# Notes\n",
    "# Symmetric Difference gives combines sets but remove items that exist in both"
   ]
  },
  {
   "cell_type": "code",
   "execution_count": null,
   "id": "a1a01a06",
   "metadata": {},
   "outputs": [
    {
     "name": "stdout",
     "output_type": "stream",
     "text": [
      "['Ali', 'Baba', 'Ahmad', 'Ali', 'Hakeem', 'Yusuf']\n",
      "{'Ali', 'Ahmad', 'Yusuf', 'Baba', 'Hakeem'}\n",
      "['Ali', 'Ahmad', 'Yusuf', 'Baba', 'Hakeem']\n",
      "['Ahmad', 'Ali', 'Baba', 'Hakeem', 'Yusuf']\n"
     ]
    }
   ],
   "source": [
    "# Summary:\n",
    "attendance = ['Ali', 'Baba', 'Ahmad', 'Ali','Hakeem', 'Yusuf']\n",
    "print(attendance)\n",
    "\n",
    "# Remove the duplicate\n",
    "attendance = set(attendance)\n",
    "print(attendance)\n",
    "\n",
    "\n",
    "# Sort the attendance\n",
    "# This will require us to change  back to a list and then sort\n",
    "attendance = list(attendance)\n",
    "print(attendance)\n",
    "\n",
    "\n",
    "# Now let sort it\n",
    "attendance.sort() \n",
    "print(attendance)\n",
    "\n",
    "# Note: - Sort is in place and returns None i.e you can not assign to a sorted list"
   ]
  },
  {
   "cell_type": "code",
   "execution_count": null,
   "id": "ed822315",
   "metadata": {},
   "outputs": [],
   "source": [
    "# Assignment - try on your own to learn other set methods\n",
    "\n",
    "fruits = {'banana', 'pineapple', 'date', 'mango'}\n",
    "\n"
   ]
  }
 ],
 "metadata": {
  "kernelspec": {
   "display_name": "Python 3",
   "language": "python",
   "name": "python3"
  },
  "language_info": {
   "codemirror_mode": {
    "name": "ipython",
    "version": 3
   },
   "file_extension": ".py",
   "mimetype": "text/x-python",
   "name": "python",
   "nbconvert_exporter": "python",
   "pygments_lexer": "ipython3",
   "version": "3.13.3"
  }
 },
 "nbformat": 4,
 "nbformat_minor": 5
}
