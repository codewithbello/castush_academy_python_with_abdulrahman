{
 "cells": [
  {
   "cell_type": "code",
   "execution_count": 8,
   "id": "ce499949",
   "metadata": {},
   "outputs": [
    {
     "name": "stdout",
     "output_type": "stream",
     "text": [
      "Variable\n",
      "Castush Academy\n"
     ]
    }
   ],
   "source": [
    "print('Variable')\n",
    "\n",
    "# A variable is a name given to a value that is stored in a computer memory location\n",
    "\n",
    "#Example\n",
    "\n",
    "school = 'Castush Academy'\n",
    "\n",
    "# school is a variable\n",
    "# 'Castush Academy' is the value\n",
    "# Meaning that, a VARIABLE will always be on the left hand side of the ASSIGNMENT OPERATOR (=)\n",
    "# While the VALUE is on the right hand side of the ASSIGNMENT OPERATOR (=)\n",
    "\n",
    "# This means that, whenever we use school in our program, we get the value 'Castush Academy'\n",
    "\n",
    "print(school)\n",
    "\n",
    "\n",
    "#📌 Note that a variable is case sensitive- when you use 'School' instead of 'school', you will get an error"
   ]
  },
  {
   "cell_type": "code",
   "execution_count": null,
   "id": "99662366",
   "metadata": {},
   "outputs": [],
   "source": [
    "# Rules in creating a variable\n",
    "\n",
    "#1. A variable must always begins with an alphabet\n",
    "#2. A variable must not contain any special symbol (e.g. #, !, @ e.t.c) except an underscore (_)\n",
    "#3. A variable must not contain white space (i.e. empty lines)\n",
    "#4 A variable must not be a Python reserved words\n",
    "#5. Variable should be descriptive\n",
    "\n",
    "\n",
    "# Variable Best Practices\n",
    "\n",
    "#1 Snake Case: You chain each word with an underscore (_)\n",
    "# Example: first_name, computer_password, price_per_GB\n",
    "\n",
    "#2 Camel Case: Here the first letter of the first word is in lower case and the first \n",
    "               # letter of the subsequent words are in uper case\n",
    "# Example\n",
    "# firstName, computerPassword, severLicenseKey\n",
    "\n",
    "#3 Pascal Case: Here each first letter in the variable words begin with an upper case\n",
    "# Example: ServerPassword, FirstName\n",
    "\n",
    "#4 Upper/Lower case or mix\n",
    "# Example: firstname, fruits, computerpassword, FIRSTNAME, PRICEPERGB\n"
   ]
  },
  {
   "cell_type": "code",
   "execution_count": null,
   "id": "407913b4",
   "metadata": {},
   "outputs": [],
   "source": [
    "1assignment = 'mm'"
   ]
  }
 ],
 "metadata": {
  "kernelspec": {
   "display_name": "Python 3",
   "language": "python",
   "name": "python3"
  },
  "language_info": {
   "codemirror_mode": {
    "name": "ipython",
    "version": 3
   },
   "file_extension": ".py",
   "mimetype": "text/x-python",
   "name": "python",
   "nbconvert_exporter": "python",
   "pygments_lexer": "ipython3",
   "version": "3.13.3"
  }
 },
 "nbformat": 4,
 "nbformat_minor": 5
}
