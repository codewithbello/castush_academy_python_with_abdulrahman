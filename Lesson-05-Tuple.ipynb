{
 "cells": [
  {
   "cell_type": "code",
   "execution_count": null,
   "id": "a2e19e1f",
   "metadata": {},
   "outputs": [],
   "source": [
    "# Tuple: \n",
    "#  A tuple is a collection of items that can be of different types. \n",
    "# Tuple is NOT mutable, meaning you cannot change their content after \n",
    "# creation.\n",
    "# syntax\n",
    "# tuple indexing and accessing elements\n",
    "# tuple slicing\n",
    "# tuple methods"
   ]
  },
  {
   "cell_type": "code",
   "execution_count": 10,
   "id": "92893e20",
   "metadata": {},
   "outputs": [
    {
     "name": "stdout",
     "output_type": "stream",
     "text": [
      "('Python', 'JavaScript', 'Java')\n"
     ]
    }
   ],
   "source": [
    "# syntax\n",
    "programming_lang = ('Python', 'JavaScript', 'Java')\n",
    "\n",
    "print(programming_lang)"
   ]
  },
  {
   "cell_type": "code",
   "execution_count": 9,
   "id": "78e55554",
   "metadata": {},
   "outputs": [
    {
     "name": "stdout",
     "output_type": "stream",
     "text": [
      "<class 'list'>\n"
     ]
    }
   ],
   "source": [
    "# How do I know that it is a tuple?\n",
    "\n",
    "print(type(programming_lang))"
   ]
  },
  {
   "cell_type": "code",
   "execution_count": null,
   "id": "ba92c774",
   "metadata": {},
   "outputs": [
    {
     "data": {
      "text/plain": [
       "'Java'"
      ]
     },
     "execution_count": 11,
     "metadata": {},
     "output_type": "execute_result"
    }
   ],
   "source": [
    "# Indexing\n",
    "# Let us take out Java\n",
    "programming_lang[2]"
   ]
  },
  {
   "cell_type": "code",
   "execution_count": null,
   "id": "cf9f0199",
   "metadata": {},
   "outputs": [
    {
     "name": "stdout",
     "output_type": "stream",
     "text": [
      "('orange', 'mango', 'apple', 'pawpaw')\n"
     ]
    },
    {
     "data": {
      "text/plain": [
       "('orange', 'mango', 'apple')"
      ]
     },
     "execution_count": 14,
     "metadata": {},
     "output_type": "execute_result"
    }
   ],
   "source": [
    "# Slice\n",
    "fruitsBasket = ('orange', 'mango', 'apple', 'pawpaw')\n",
    "print(fruitsBasket)\n",
    "\n",
    "#  Select the firt three items\n",
    "fruitsBasket[0:3]\n",
    "\n",
    "\n",
    "#📌 Slicing in Tuple works same for  a List"
   ]
  },
  {
   "cell_type": "code",
   "execution_count": 16,
   "id": "49963236",
   "metadata": {},
   "outputs": [
    {
     "data": {
      "text/plain": [
       "4"
      ]
     },
     "execution_count": 16,
     "metadata": {},
     "output_type": "execute_result"
    }
   ],
   "source": [
    "# How to check the number of items in the tuple\n",
    "len(fruitsBasket)"
   ]
  },
  {
   "cell_type": "code",
   "execution_count": 17,
   "id": "85b86766",
   "metadata": {},
   "outputs": [
    {
     "data": {
      "text/plain": [
       "False"
      ]
     },
     "execution_count": 17,
     "metadata": {},
     "output_type": "execute_result"
    }
   ],
   "source": [
    "# Can we check if something is in the fruitBasket\n",
    "\n",
    "'watermelon' in fruitsBasket"
   ]
  },
  {
   "cell_type": "code",
   "execution_count": null,
   "id": "12020c4c",
   "metadata": {},
   "outputs": [
    {
     "data": {
      "text/plain": [
       "True"
      ]
     },
     "execution_count": 18,
     "metadata": {},
     "output_type": "execute_result"
    }
   ],
   "source": [
    "# Can we check if something is in the fruitBasket\n",
    "\n",
    "'mango' in fruitsBasket\n",
    "\n",
    "#📌 This work similar to a List too\n"
   ]
  },
  {
   "cell_type": "code",
   "execution_count": null,
   "id": "5ca20144",
   "metadata": {},
   "outputs": [
    {
     "name": "stdout",
     "output_type": "stream",
     "text": [
      "('blue', 'red', 'green', 'yellow', 'blue')\n"
     ]
    },
    {
     "data": {
      "text/plain": [
       "2"
      ]
     },
     "execution_count": 19,
     "metadata": {},
     "output_type": "execute_result"
    }
   ],
   "source": [
    "# Methods\n",
    "colours = ('blue', 'red', 'green', 'yellow', 'blue')\n",
    "print(colours)\n",
    "\n",
    "\n",
    "# Tuple method #1 -.count()\n",
    "colours.count('blue')\n",
    "\n",
    "#📌 This work similar to a List too"
   ]
  },
  {
   "cell_type": "code",
   "execution_count": 21,
   "id": "04470763",
   "metadata": {},
   "outputs": [
    {
     "data": {
      "text/plain": [
       "0"
      ]
     },
     "execution_count": 21,
     "metadata": {},
     "output_type": "execute_result"
    }
   ],
   "source": [
    "# Tuple method #2 - .index()\n",
    "\n",
    "# What is the index position of blue?\n",
    "\n",
    "colours.index('blue')\n"
   ]
  },
  {
   "cell_type": "code",
   "execution_count": 20,
   "id": "9aa35a96",
   "metadata": {},
   "outputs": [
    {
     "data": {
      "text/plain": [
       "2"
      ]
     },
     "execution_count": 20,
     "metadata": {},
     "output_type": "execute_result"
    }
   ],
   "source": [
    "# Tuple method #2 - .index()\n",
    "\n",
    "# What is the index position of red?\n",
    "\n",
    "colours.index('green')\n"
   ]
  },
  {
   "cell_type": "code",
   "execution_count": 26,
   "id": "a6cf90e4",
   "metadata": {},
   "outputs": [
    {
     "name": "stdout",
     "output_type": "stream",
     "text": [
      "An error occured\n",
      "Python is  awesome\n"
     ]
    }
   ],
   "source": [
    "try:  \n",
    "    age  = 2025 -'year two thousand'\n",
    "    print(age)\n",
    "except TypeError:\n",
    "    print('An error occured')\n",
    "\n",
    "\n",
    "print('Python is  awesome')"
   ]
  }
 ],
 "metadata": {
  "kernelspec": {
   "display_name": "Python 3",
   "language": "python",
   "name": "python3"
  },
  "language_info": {
   "codemirror_mode": {
    "name": "ipython",
    "version": 3
   },
   "file_extension": ".py",
   "mimetype": "text/x-python",
   "name": "python",
   "nbconvert_exporter": "python",
   "pygments_lexer": "ipython3",
   "version": "3.13.3"
  }
 },
 "nbformat": 4,
 "nbformat_minor": 5
}
