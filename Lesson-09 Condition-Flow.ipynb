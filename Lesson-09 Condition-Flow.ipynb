{
 "cells": [
  {
   "cell_type": "code",
   "execution_count": 1,
   "id": "2a5d3805",
   "metadata": {},
   "outputs": [
    {
     "data": {
      "text/plain": [
       "bool"
      ]
     },
     "execution_count": 1,
     "metadata": {},
     "output_type": "execute_result"
    }
   ],
   "source": [
    "# Condition Flow\n",
    "\n",
    "# Boolean - True/1 and False/0\n",
    "\n",
    "type(True)\n",
    "\n",
    "                       \n"
   ]
  },
  {
   "cell_type": "code",
   "execution_count": null,
   "id": "00b66d0f",
   "metadata": {},
   "outputs": [],
   "source": [
    "# Logical Operators\n",
    "\n",
    "# Equals                                        ==\n",
    "# Greater than                                  >\n",
    "# Less than                                     <\n",
    "# Greater than or equals to                     >=\n",
    "# Less than or equals to                        <=\n",
    "# and logic                                     and\n",
    "# or logic                                      or \n",
    "# not logic                                     not     "
   ]
  },
  {
   "cell_type": "code",
   "execution_count": 3,
   "id": "b9305c95",
   "metadata": {},
   "outputs": [
    {
     "name": "stdout",
     "output_type": "stream",
     "text": [
      "True\n"
     ]
    }
   ],
   "source": [
    "num1 = 10\n",
    "num2 = 10\n",
    "\n",
    "isEqual = num1 == num2\n",
    "print(isEqual)"
   ]
  },
  {
   "cell_type": "code",
   "execution_count": 4,
   "id": "d48661c2",
   "metadata": {},
   "outputs": [
    {
     "name": "stdout",
     "output_type": "stream",
     "text": [
      "False\n"
     ]
    }
   ],
   "source": [
    "isGreater =  num2 > num1\n",
    "\n",
    "print(isGreater)"
   ]
  },
  {
   "cell_type": "code",
   "execution_count": 6,
   "id": "ca3be1b6",
   "metadata": {},
   "outputs": [
    {
     "name": "stdout",
     "output_type": "stream",
     "text": [
      "True\n"
     ]
    }
   ],
   "source": [
    "isGreaterOrEqualsTo = num2 >= num1\n",
    "print(isGreaterOrEqualsTo)"
   ]
  },
  {
   "cell_type": "code",
   "execution_count": 7,
   "id": "f24ba359",
   "metadata": {},
   "outputs": [
    {
     "name": "stdout",
     "output_type": "stream",
     "text": [
      "False\n"
     ]
    }
   ],
   "source": [
    "isGreaterOrEqualsTo = not num2 >= num1\n",
    "print(isGreaterOrEqualsTo)"
   ]
  },
  {
   "cell_type": "code",
   "execution_count": 8,
   "id": "baee426e",
   "metadata": {},
   "outputs": [
    {
     "data": {
      "text/plain": [
       "True"
      ]
     },
     "execution_count": 8,
     "metadata": {},
     "output_type": "execute_result"
    }
   ],
   "source": [
    "100 > 10"
   ]
  },
  {
   "cell_type": "code",
   "execution_count": 9,
   "id": "9bf19334",
   "metadata": {},
   "outputs": [
    {
     "data": {
      "text/plain": [
       "False"
      ]
     },
     "execution_count": 9,
     "metadata": {},
     "output_type": "execute_result"
    }
   ],
   "source": [
    "not 100 > 10"
   ]
  },
  {
   "cell_type": "code",
   "execution_count": null,
   "id": "04b878d1",
   "metadata": {},
   "outputs": [],
   "source": [
    "# and returns True if all conditions are True otherwise False\n",
    "# or returns True if any of the conditions are True otherwise False"
   ]
  },
  {
   "cell_type": "code",
   "execution_count": 13,
   "id": "45856025",
   "metadata": {},
   "outputs": [
    {
     "name": "stdout",
     "output_type": "stream",
     "text": [
      "😊\n"
     ]
    }
   ],
   "source": [
    "# If Condition\n",
    "\n",
    "'''\n",
    "Syntax:\n",
    "    if condition:\n",
    "        statement\n",
    "'''\n",
    "\n",
    "mood = 'happy'\n",
    "\n",
    "if mood == 'happy':\n",
    "    print('😊')"
   ]
  },
  {
   "cell_type": "code",
   "execution_count": null,
   "id": "0a8fc35d",
   "metadata": {},
   "outputs": [],
   "source": [
    "mood = 'sad'\n",
    "\n",
    "if mood == 'happy':\n",
    "    print('😊')\n",
    "\n",
    "# Note: If statement will ONLY run if the condition is TRUE"
   ]
  },
  {
   "cell_type": "code",
   "execution_count": null,
   "id": "1e2ccd0c",
   "metadata": {},
   "outputs": [
    {
     "name": "stdout",
     "output_type": "stream",
     "text": [
      "☹️\n"
     ]
    }
   ],
   "source": [
    "# if and else statement\n",
    "\n",
    "mood = 'sad'\n",
    "\n",
    "if mood == 'happy':\n",
    "    print('😊')\n",
    "\n",
    "else:\n",
    "    print('☹️')\n",
    "\n",
    "# Note: The else does not have a condition"
   ]
  },
  {
   "cell_type": "code",
   "execution_count": 19,
   "id": "5a71dd76",
   "metadata": {},
   "outputs": [
    {
     "name": "stdout",
     "output_type": "stream",
     "text": [
      "🤷\n"
     ]
    }
   ],
   "source": [
    "# if-elif-else statements\n",
    "\n",
    "mood = 'excited'\n",
    "\n",
    "if mood == 'happy':\n",
    "    print('😊')\n",
    "\n",
    "elif mood == 'sad':\n",
    "     print('☹️')\n",
    "\n",
    "else:\n",
    "     print('🤷')\n"
   ]
  },
  {
   "cell_type": "code",
   "execution_count": 33,
   "id": "91952737",
   "metadata": {},
   "outputs": [
    {
     "name": "stdout",
     "output_type": "stream",
     "text": [
      "Pass\n"
     ]
    }
   ],
   "source": [
    "\"\"\"\n",
    "CGPA\n",
    "\n",
    "First Class: 4.5 - 5.0\n",
    "Second Class Upper: 3.5 - 4.49\n",
    "Second Class Lower: 2.4 - 3.49\n",
    "Third Class: 1.5- 2.39\n",
    "Pass :  0-1.49\n",
    "\n",
    "Write a program that gives a student class of degree base on their CGPA\n",
    "\"\"\"\n",
    "\n",
    "cgpa = 1.48\n",
    "if cgpa >= 4.5:\n",
    "    print('First Class')\n",
    "\n",
    "elif cgpa >=3.5 and cgpa < 4.5:\n",
    "    print('Second Class Upper')\n",
    "\n",
    "elif cgpa >=2.4 and cgpa < 3.5:\n",
    "    print('Second Class Lower')\n",
    "\n",
    "elif cgpa >=1.5 and cgpa < 2.4:\n",
    "    print('Third Class')\n",
    "\n",
    "else:\n",
    "    print('Pass')"
   ]
  },
  {
   "cell_type": "code",
   "execution_count": null,
   "id": "0605e29e",
   "metadata": {},
   "outputs": [
    {
     "name": "stdout",
     "output_type": "stream",
     "text": [
      "Error: Invalid CGPA\n"
     ]
    }
   ],
   "source": [
    "\"\"\"\n",
    "CGPA\n",
    "\n",
    "First Class: 4.5 - 5.0\n",
    "Second Class Upper: 3.5 - 4.49\n",
    "Second Class Lower: 2.4 - 3.49\n",
    "Third Class: 1.5- 2.39\n",
    "Pass :  0-1.49\n",
    "\n",
    "Write a program that gives a student class of degree base on their CGPA\n",
    "\"\"\"\n",
    "\n",
    "# Let us handle edge cases:\n",
    "    # if cgpa is not provided i.e None or \"\" \n",
    "    # cgpa less than 0\n",
    "    # cgpa greater than 5\n",
    "\n",
    "cgpa = \"\"\n",
    "\n",
    "if  not type(cgpa) == int or not type(cgpa) == float:\n",
    "     print('Error: Invalid CGPA')\n",
    "\n",
    "elif  type(cgpa) == str and cgpa.strip()  == \"\":\n",
    "     print('Invalid CGPA')\n",
    "\n",
    "elif  cgpa == None or cgpa < 0 or cgpa > 5:\n",
    "    print('Invalid CGPA')\n",
    "elif cgpa >= 4.5:\n",
    "    print('First Class')\n",
    "\n",
    "elif cgpa >=3.5 and cgpa < 4.5:\n",
    "    print('Second Class Upper')\n",
    "\n",
    "elif cgpa >=2.4 and cgpa < 3.5:\n",
    "    print('Second Class Lower')\n",
    "\n",
    "elif cgpa >=1.5 and cgpa < 2.4:\n",
    "    print('Third Class')\n",
    "\n",
    "else:\n",
    "    print('Pass')"
   ]
  },
  {
   "cell_type": "code",
   "execution_count": 64,
   "id": "459412f3",
   "metadata": {},
   "outputs": [],
   "source": [
    "def getClassDegree(cgpa):\n",
    "    if  not type(cgpa) == int and not type(cgpa) == float:\n",
    "        print('Error: Invalid CGPA')\n",
    "\n",
    "    elif  type(cgpa) == str and cgpa.strip()  == \"\":\n",
    "        print('Invalid CGPA')\n",
    "\n",
    "    elif  cgpa == None or cgpa < 0 or cgpa > 5:\n",
    "        print('Invalid CGPA')\n",
    "    elif cgpa >= 4.5:\n",
    "        print('First Class')\n",
    "\n",
    "    elif cgpa >=3.5 and cgpa < 4.5:\n",
    "        print('Second Class Upper')\n",
    "\n",
    "    elif cgpa >=2.4 and cgpa < 3.5:\n",
    "        print('Second Class Lower')\n",
    "\n",
    "    elif cgpa >=1.5 and cgpa < 2.4:\n",
    "        print('Third Class')\n",
    "\n",
    "    else:\n",
    "        print('Pass')\n",
    "\n"
   ]
  },
  {
   "cell_type": "code",
   "execution_count": 66,
   "id": "20a31198",
   "metadata": {},
   "outputs": [
    {
     "name": "stdout",
     "output_type": "stream",
     "text": [
      "Error: Invalid CGPA\n"
     ]
    }
   ],
   "source": [
    "getClassDegree(cgpa=\"4.6\")"
   ]
  },
  {
   "cell_type": "code",
   "execution_count": null,
   "id": "ffa50834",
   "metadata": {},
   "outputs": [],
   "source": [
    "\"\"\"\n",
    "Assignment\n",
    "\n",
    "Grade A: 70 - 100\n",
    "Grade B: 60 - 69\n",
    "Grade C: 50 - 59\n",
    "Grade D: 45 - 49\n",
    "Grade E: 40- 44\n",
    "Grade F: 0- 39\n",
    "\n",
    "Write a function program to give the student grade base on their score\n",
    "\"\"\""
   ]
  }
 ],
 "metadata": {
  "kernelspec": {
   "display_name": "Python 3",
   "language": "python",
   "name": "python3"
  },
  "language_info": {
   "codemirror_mode": {
    "name": "ipython",
    "version": 3
   },
   "file_extension": ".py",
   "mimetype": "text/x-python",
   "name": "python",
   "nbconvert_exporter": "python",
   "pygments_lexer": "ipython3",
   "version": "3.13.3"
  }
 },
 "nbformat": 4,
 "nbformat_minor": 5
}
