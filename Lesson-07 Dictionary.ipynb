{
 "cells": [
  {
   "cell_type": "code",
   "execution_count": 1,
   "id": "64c81cb3",
   "metadata": {},
   "outputs": [
    {
     "name": "stdout",
     "output_type": "stream",
     "text": [
      "{'name': 'Ali Dodo', 'age': 15, 'phone': '09017736446'}\n"
     ]
    }
   ],
   "source": [
    "# Dictionary  - It uses key and value pair\n",
    "\n",
    "# Syntax\n",
    "\n",
    "person  = {\n",
    "    \"name\":\"Ali Dodo\",\n",
    "    \"age\":15,\n",
    "    \"phone\":\"09017736446\"\n",
    "}\n",
    "\n",
    "print(person)"
   ]
  },
  {
   "cell_type": "code",
   "execution_count": 2,
   "id": "dc693969",
   "metadata": {},
   "outputs": [
    {
     "name": "stdout",
     "output_type": "stream",
     "text": [
      "<class 'dict'>\n"
     ]
    }
   ],
   "source": [
    "print(type(person))"
   ]
  },
  {
   "cell_type": "code",
   "execution_count": 5,
   "id": "c27bf5d0",
   "metadata": {},
   "outputs": [
    {
     "name": "stdout",
     "output_type": "stream",
     "text": [
      "Ali Dodo\n",
      "15\n"
     ]
    }
   ],
   "source": [
    "# How do we access the values of a dictionary\n",
    "\n",
    "# Method #1\n",
    "print(person[\"name\"])\n",
    "\n",
    "#Method #2\n",
    "print(person.get(\"age\"))\n",
    "\n"
   ]
  },
  {
   "cell_type": "code",
   "execution_count": 10,
   "id": "e7b7194f",
   "metadata": {},
   "outputs": [
    {
     "name": "stdout",
     "output_type": "stream",
     "text": [
      "Missing key: 'address'\n"
     ]
    }
   ],
   "source": [
    "try:\n",
    "    result = person[\"address\"]\n",
    "    print(result)\n",
    "except Exception as e:\n",
    "    print(\"Missing key:\",e)\n",
    "\n",
    "#📌A errow will be thrown by method #1 if the key does not exist"
   ]
  },
  {
   "cell_type": "code",
   "execution_count": 11,
   "id": "d9743d2b",
   "metadata": {},
   "outputs": [
    {
     "name": "stdout",
     "output_type": "stream",
     "text": [
      "None\n"
     ]
    }
   ],
   "source": [
    "result = person.get(\"address\")\n",
    "print(result)"
   ]
  },
  {
   "cell_type": "code",
   "execution_count": 16,
   "id": "ad1ff768",
   "metadata": {},
   "outputs": [
    {
     "name": "stdout",
     "output_type": "stream",
     "text": [
      "{'name': 'Ali Dodo', 'age': 20, 'phone': '09017736446', 'address': 'Offa Road, Ilorin', 'gender': 'Male'}\n",
      "{'name': 'Ali Dodo', 'age': 20, 'phone': '09017736446', 'address': 'Offa Road, Ilorin', 'gender': 'Male'}\n",
      "{'name': 'Ali Dodo', 'age': 20, 'phone': '09017736446', 'address': 'Offa Road, Ilorin', 'gender': 'Male'}\n",
      "{'name': 'Sponge Bob', 'age': 20, 'phone': '09017736446', 'address': 'Offa Road, Ilorin', 'gender': 'Male'}\n"
     ]
    }
   ],
   "source": [
    "# Can we update the dictionary\n",
    "\n",
    "    # -- Add new thing - Method 1\n",
    "person[\"address\"] = \"Offa Road, Ilorin\"\n",
    "print(person)\n",
    "\n",
    "# -- Add new thing - Method 2\n",
    "person.update({\"gender\":\"Male\"})\n",
    "print(person)\n",
    "\n",
    "# -- Changing the value of a key - Method 1\n",
    "person[\"age\"] = 20\n",
    "print(person)\n",
    "\n",
    "# -- Changing the value of a key - Method 2\n",
    "person.update({\"name\":\"Sponge Bob\"})\n",
    "print(person)\n"
   ]
  },
  {
   "cell_type": "code",
   "execution_count": 31,
   "id": "ec952c8d",
   "metadata": {},
   "outputs": [
    {
     "name": "stdout",
     "output_type": "stream",
     "text": [
      "{}\n",
      "{'Model': 'Toyota', 'Brand': 'Rav4'}\n"
     ]
    }
   ],
   "source": [
    "# Creating an empty dictionary\n",
    "car = dict()\n",
    "print(car)\n",
    "\n",
    "car.update({\"Model\":\"Toyota\", \"Brand\":\"Rav4\"})\n",
    "print(car)\n"
   ]
  },
  {
   "cell_type": "code",
   "execution_count": 34,
   "id": "b169b3fa",
   "metadata": {},
   "outputs": [
    {
     "name": "stdout",
     "output_type": "stream",
     "text": [
      "['Model', 'Brand']\n"
     ]
    }
   ],
   "source": [
    "k = list(car.keys())\n",
    "print(k)"
   ]
  },
  {
   "cell_type": "code",
   "execution_count": 40,
   "id": "29e34515",
   "metadata": {},
   "outputs": [
    {
     "name": "stdout",
     "output_type": "stream",
     "text": [
      "['Toyota', 'Rav4']\n"
     ]
    }
   ],
   "source": [
    "v = list(car.values())\n",
    "print(v)"
   ]
  },
  {
   "cell_type": "code",
   "execution_count": 41,
   "id": "159beefd",
   "metadata": {},
   "outputs": [
    {
     "name": "stdout",
     "output_type": "stream",
     "text": [
      "{}\n"
     ]
    }
   ],
   "source": [
    "car.clear()\n",
    "print(car)"
   ]
  },
  {
   "cell_type": "code",
   "execution_count": 44,
   "id": "de8accf8",
   "metadata": {},
   "outputs": [
    {
     "name": "stdout",
     "output_type": "stream",
     "text": [
      "{'Model': 'Toyota', 'Brand': 'Rav4'}\n",
      "{'Model': 'Toyota', 'Brand': 'Rav4'}\n"
     ]
    }
   ],
   "source": [
    "car = {\"Model\":\"Toyota\", \"Brand\":\"Rav4\"}\n",
    "print(car)\n",
    "\n",
    "vehicle = car\n",
    "print(vehicle)"
   ]
  },
  {
   "cell_type": "code",
   "execution_count": 46,
   "id": "4543eac3",
   "metadata": {},
   "outputs": [
    {
     "name": "stdout",
     "output_type": "stream",
     "text": [
      "{'Model': 'Toyota', 'Brand': 'Rav4', 'doors': 4}\n",
      "{'Model': 'Toyota', 'Brand': 'Rav4', 'doors': 4}\n"
     ]
    }
   ],
   "source": [
    "car.update({\"doors\":4})\n",
    "print(car)\n",
    "print(vehicle)"
   ]
  },
  {
   "cell_type": "code",
   "execution_count": 47,
   "id": "ec42f251",
   "metadata": {},
   "outputs": [],
   "source": [
    "laptop = {\n",
    "\"brand\":\"Dell\",\n",
    "\"processor\":\"Core17\",\n",
    "\"gen\":\"12 Gen\"\n",
    "}"
   ]
  },
  {
   "cell_type": "code",
   "execution_count": null,
   "id": "6fa1c998",
   "metadata": {},
   "outputs": [
    {
     "name": "stdout",
     "output_type": "stream",
     "text": [
      "{'brand': 'Dell', 'processor': 'Core17', 'gen': '12 Gen', 'OS': 'Windows'}\n",
      "{'brand': 'Dell', 'processor': 'Core17', 'gen': '12 Gen'}\n"
     ]
    }
   ],
   "source": [
    "computer = laptop.copy()\n",
    "laptop.update({\n",
    "    \"OS\":\"Windows\"\n",
    "})\n",
    "\n",
    "print(laptop)\n",
    "print(computer)\n",
    "\n"
   ]
  },
  {
   "cell_type": "code",
   "execution_count": 50,
   "id": "580f359b",
   "metadata": {},
   "outputs": [
    {
     "name": "stdout",
     "output_type": "stream",
     "text": [
      "[('brand', 'Dell'), ('processor', 'Core17'), ('gen', '12 Gen'), ('OS', 'Windows')]\n"
     ]
    }
   ],
   "source": [
    "items = list(laptop.items())\n",
    "print(items)"
   ]
  },
  {
   "cell_type": "code",
   "execution_count": null,
   "id": "2acedd26",
   "metadata": {},
   "outputs": [],
   "source": [
    "# Study more on the dictionary methods"
   ]
  }
 ],
 "metadata": {
  "kernelspec": {
   "display_name": "Python 3",
   "language": "python",
   "name": "python3"
  },
  "language_info": {
   "codemirror_mode": {
    "name": "ipython",
    "version": 3
   },
   "file_extension": ".py",
   "mimetype": "text/x-python",
   "name": "python",
   "nbconvert_exporter": "python",
   "pygments_lexer": "ipython3",
   "version": "3.13.3"
  }
 },
 "nbformat": 4,
 "nbformat_minor": 5
}
