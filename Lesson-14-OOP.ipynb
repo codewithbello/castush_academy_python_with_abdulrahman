{
 "cells": [
  {
   "cell_type": "code",
   "execution_count": 1,
   "id": "6a04ce85",
   "metadata": {},
   "outputs": [
    {
     "name": "stdout",
     "output_type": "stream",
     "text": [
      "<class 'int'>\n"
     ]
    }
   ],
   "source": [
    "# Object Oriented Programming (OOP)\n",
    "\n",
    "x = 1\n",
    "\n",
    "print(type(x))\n",
    "\n",
    "# Note\n",
    "# x is an instance of the class int     "
   ]
  },
  {
   "cell_type": "code",
   "execution_count": 2,
   "id": "6bb7a88b",
   "metadata": {},
   "outputs": [
    {
     "name": "stdout",
     "output_type": "stream",
     "text": [
      "hello 👋\n",
      "<class 'function'>\n"
     ]
    }
   ],
   "source": [
    "def hello():\n",
    "    print(\"hello 👋\")\n",
    "\n",
    "hello()\n",
    "\n",
    "print(type(hello))"
   ]
  },
  {
   "cell_type": "code",
   "execution_count": 3,
   "id": "0dfc8136",
   "metadata": {},
   "outputs": [
    {
     "name": "stdout",
     "output_type": "stream",
     "text": [
      "unsupported operand type(s) for +: 'int' and 'str'\n"
     ]
    }
   ],
   "source": [
    "x = 1  # integer\n",
    "y = \"hello\"  # string\n",
    "\n",
    "try:\n",
    "    ans = x + y\n",
    "    print(ans)\n",
    "except Exception as e:\n",
    "    print(e)\n"
   ]
  },
  {
   "cell_type": "code",
   "execution_count": 4,
   "id": "80ec40db",
   "metadata": {},
   "outputs": [
    {
     "data": {
      "text/plain": [
       "'SAEED'"
      ]
     },
     "execution_count": 4,
     "metadata": {},
     "output_type": "execute_result"
    }
   ],
   "source": [
    "# Understanding Class Method \n",
    "\n",
    "name = \"Saeed\"\n",
    "name.upper()"
   ]
  },
  {
   "cell_type": "code",
   "execution_count": 5,
   "id": "58a4e2ef",
   "metadata": {},
   "outputs": [
    {
     "name": "stdout",
     "output_type": "stream",
     "text": [
      "'int' object has no attribute 'upper'\n"
     ]
    }
   ],
   "source": [
    "try:\n",
    "    x = 1\n",
    "    x.upper()\n",
    "\n",
    "except Exception as e:\n",
    "    print(e)"
   ]
  },
  {
   "cell_type": "code",
   "execution_count": 6,
   "id": "c1257436",
   "metadata": {},
   "outputs": [
    {
     "name": "stdout",
     "output_type": "stream",
     "text": [
      "ONE\n",
      "<class '__main__.customAliOneInt'>\n"
     ]
    }
   ],
   "source": [
    "# Let us create our own class\n",
    "\n",
    "# Create a class\n",
    "class customAliOneInt:\n",
    "    # Class Method\n",
    "    def upper(self):\n",
    "        print(\"ONE\")\n",
    "\n",
    "\n",
    "# Create an instance of the created class\n",
    "x = customAliOneInt()\n",
    "\n",
    "x.upper()\n",
    "\n",
    "print(type(x))\n",
    "# ----- What we have learnt\n",
    "#1 We learn how to create a class\n",
    "#2 How to create a method (function) inside of a class\n",
    "#3 How to create an instance of a class\n",
    "#4 How to invoke the class method on the class instance\n",
    "\n",
    "\n",
    "# What is self on line 6\n",
    "# Self means the instance of the class\n",
    "\n",
    "\n",
    "\n",
    "\n"
   ]
  },
  {
   "cell_type": "code",
   "execution_count": 7,
   "id": "b14504f7",
   "metadata": {},
   "outputs": [
    {
     "name": "stdout",
     "output_type": "stream",
     "text": [
      "woof woof!\n",
      "<class '__main__.Dog'>\n"
     ]
    }
   ],
   "source": [
    "# Example 2\n",
    "\n",
    "class Dog:\n",
    "\n",
    "    # method\n",
    "    def bark(self):\n",
    "        print(\"woof woof!\")\n",
    "\n",
    "\n",
    "# Instantiating the Dog class\n",
    "d = Dog()\n",
    "\n",
    "# Calling the bark method on the instance of the Dog class\n",
    "\n",
    "d.bark()\n",
    "\n",
    "print(type(d))\n"
   ]
  },
  {
   "cell_type": "code",
   "execution_count": 8,
   "id": "cda2ac4a",
   "metadata": {},
   "outputs": [
    {
     "name": "stdout",
     "output_type": "stream",
     "text": [
      "bingo\n",
      "Casey\n"
     ]
    }
   ],
   "source": [
    "# Class constructor\n",
    "\n",
    "class Dog:\n",
    "    # Special method/ initialization/ constructor\n",
    "    def __init__(self,name):\n",
    "\n",
    "        # Attributes\n",
    "        self.name = name.capitalize()\n",
    "        print(name)\n",
    "\n",
    "    # method\n",
    "    def bark(self):\n",
    "        print(\"woof woof!\")\n",
    "\n",
    "\n",
    "    \n",
    "\n",
    "d1 = Dog(\"bingo\")\n",
    "d2 = Dog(\"Casey\")\n",
    "\n",
    "\n"
   ]
  },
  {
   "cell_type": "code",
   "execution_count": 9,
   "id": "957eaa37",
   "metadata": {},
   "outputs": [
    {
     "name": "stdout",
     "output_type": "stream",
     "text": [
      "Bingo\n",
      "woof woof!\n"
     ]
    }
   ],
   "source": [
    "name = d1.name\n",
    "print(name)\n",
    "\n",
    "d1.bark()"
   ]
  },
  {
   "cell_type": "code",
   "execution_count": 10,
   "id": "cb171d4e",
   "metadata": {},
   "outputs": [
    {
     "data": {
      "text/plain": [
       "'Casey'"
      ]
     },
     "execution_count": 10,
     "metadata": {},
     "output_type": "execute_result"
    }
   ],
   "source": [
    "d2.name"
   ]
  },
  {
   "cell_type": "code",
   "execution_count": 11,
   "id": "84e8e600",
   "metadata": {},
   "outputs": [],
   "source": [
    "class Dog:\n",
    "    # Constructor\n",
    "    def __init__(self, name,age, colour):\n",
    "        self.name = name\n",
    "        self.age = age\n",
    "        self.colour = colour\n",
    "        self.display = f\"My name is {self.name}, I am {self.age} year's old and {self.colour}\"\n",
    "\n",
    "    def bark(self):\n",
    "        print(\"woof woof!\")\n",
    "    \n",
    "    def get_name(self):\n",
    "        print(self.name)\n",
    "\n",
    "    def get_age(self):\n",
    "        print(self.age)\n",
    "\n",
    "    def get_colour(self):\n",
    "        print(self.colour)\n",
    "\n",
    "    def info(self):\n",
    "        print(self.display)\n",
    "\n",
    "\n",
    "\n",
    "d1 = Dog(\"Bingo\", 2, \"brown\")\n",
    "d2 = Dog(\"Casey\", 2, \"white\")\n",
    "d3 = Dog(\"Foxy\", 2, \"black\")"
   ]
  },
  {
   "cell_type": "code",
   "execution_count": 12,
   "id": "249c28e0",
   "metadata": {},
   "outputs": [
    {
     "name": "stdout",
     "output_type": "stream",
     "text": [
      "Casey\n",
      "2\n",
      "white\n"
     ]
    }
   ],
   "source": [
    "d2.get_name()\n",
    "d2.get_age()\n",
    "d2.get_colour()"
   ]
  },
  {
   "cell_type": "code",
   "execution_count": 13,
   "id": "9973fdff",
   "metadata": {},
   "outputs": [
    {
     "name": "stdout",
     "output_type": "stream",
     "text": [
      "Bingo\n",
      "2\n",
      "brown\n"
     ]
    }
   ],
   "source": [
    "d1.get_name()\n",
    "d1.get_age()\n",
    "d1.get_colour()"
   ]
  },
  {
   "cell_type": "code",
   "execution_count": 14,
   "id": "aa7296f9",
   "metadata": {},
   "outputs": [
    {
     "name": "stdout",
     "output_type": "stream",
     "text": [
      "Foxy\n",
      "2\n",
      "black\n"
     ]
    }
   ],
   "source": [
    "d3.get_name()\n",
    "d3.get_age()\n",
    "d3.get_colour()"
   ]
  },
  {
   "cell_type": "code",
   "execution_count": 15,
   "id": "d2ee5eb3",
   "metadata": {},
   "outputs": [
    {
     "data": {
      "text/plain": [
       "'Bingo'"
      ]
     },
     "execution_count": 15,
     "metadata": {},
     "output_type": "execute_result"
    }
   ],
   "source": [
    "d1.name"
   ]
  },
  {
   "cell_type": "code",
   "execution_count": 16,
   "id": "305cadf0",
   "metadata": {},
   "outputs": [
    {
     "data": {
      "text/plain": [
       "2"
      ]
     },
     "execution_count": 16,
     "metadata": {},
     "output_type": "execute_result"
    }
   ],
   "source": [
    "d1.age"
   ]
  },
  {
   "cell_type": "code",
   "execution_count": 17,
   "id": "084312ac",
   "metadata": {},
   "outputs": [
    {
     "name": "stdout",
     "output_type": "stream",
     "text": [
      "My name is Bingo, I am 2 year's old and brown\n"
     ]
    }
   ],
   "source": [
    "d1.info()"
   ]
  },
  {
   "cell_type": "code",
   "execution_count": 18,
   "id": "051e2d29",
   "metadata": {},
   "outputs": [
    {
     "name": "stdout",
     "output_type": "stream",
     "text": [
      "laptop\n"
     ]
    }
   ],
   "source": [
    "product = str(\"laptop\")\n",
    "\n",
    "print(product)"
   ]
  },
  {
   "cell_type": "code",
   "execution_count": 19,
   "id": "4d9ef486",
   "metadata": {},
   "outputs": [],
   "source": [
    "x = int(1)\n"
   ]
  },
  {
   "cell_type": "code",
   "execution_count": 20,
   "id": "5f419c97",
   "metadata": {},
   "outputs": [
    {
     "data": {
      "text/plain": [
       "'\\nImagine I want to create  and describe an object with its attribute:\\n\\ndog1_name = \"Bingo\"\\ndog1_age = 20\\n\\nThen I will need to create for mmany dogs type, \\nimagine how cumbersome that will be\\n\\nAlternatively, I can say I will store them in a list, for example\\n\\ndog_name = [\"Bingo\", \"Casey\"]\\ndog_age = [20, 5]\\n\\nThe trouble of maitaining the list for any changes or \\nupdate can\\'t be imagine\\nAs one need to keep track of the index of each attributes\\n'"
      ]
     },
     "execution_count": 20,
     "metadata": {},
     "output_type": "execute_result"
    }
   ],
   "source": [
    "# Class is like a blueprint for the Python Object\n",
    "\n",
    "# Why Class\n",
    "\n",
    "'''\n",
    "Imagine I want to create  and describe an object with its attribute:\n",
    "\n",
    "dog1_name = \"Bingo\"\n",
    "dog1_age = 20\n",
    "\n",
    "Then I will need to create for mmany dogs type, \n",
    "imagine how cumbersome that will be\n",
    "\n",
    "Alternatively, I can say I will store them in a list, for example\n",
    "\n",
    "dog_name = [\"Bingo\", \"Casey\"]\n",
    "dog_age = [20, 5]\n",
    "\n",
    "The trouble of maitaining the list for any changes or \n",
    "update can't be imagine\n",
    "As one need to keep track of the index of each attributes\n",
    "'''\n"
   ]
  },
  {
   "cell_type": "code",
   "execution_count": 21,
   "id": "b9826a56",
   "metadata": {},
   "outputs": [
    {
     "data": {
      "text/plain": [
       "'\\n1. Create a class to calculate the area of a rectangle such that you can initialize the class\\nwith length and width\\nThe  create a method of the class to calculate the area of the rectangle\\nThen also, create a method to display the shape as a \"Square\" if the length and width are equal\\notherwise shape is a \"Rectangle\"\\n'"
      ]
     },
     "execution_count": 21,
     "metadata": {},
     "output_type": "execute_result"
    }
   ],
   "source": [
    "# Assignment\n",
    "\n",
    "\"\"\"\n",
    "1. Create a class to calculate the area of a rectangle such that you can initialize the class\n",
    "with length and width\n",
    "The  create a method of the class to calculate the area of the rectangle\n",
    "Then also, create a method to display the shape as a \"Square\" if the length and width are equal\n",
    "otherwise shape is a \"Rectangle\"\n",
    "\"\"\"\n"
   ]
  },
  {
   "cell_type": "code",
   "execution_count": 24,
   "id": "cf135bc1",
   "metadata": {},
   "outputs": [
    {
     "name": "stdout",
     "output_type": "stream",
     "text": [
      "50\n"
     ]
    }
   ],
   "source": [
    "value = 0\n",
    "\n",
    "students = [\n",
    "    {\n",
    "    \"name\": \"Ali\",\n",
    "    \"age\": 20,\n",
    "    \"grade\": 10\n",
    "},\n",
    "{\n",
    "    \"name\": \"Saeed\",\n",
    "    \"age\": 22,\n",
    "    \"grade\": 20\n",
    "}, {\n",
    "    \"name\": \"Fatima\",\n",
    "    \"age\": 19,\n",
    "    \"grade\": 5\n",
    "}, {\n",
    "    \"name\": \"Zainab\",\n",
    "    \"age\": 21,\n",
    "    \"grade\": 15\n",
    "}\n",
    "]\n",
    "\n",
    "for student in students:\n",
    "    grade = student[\"grade\"]  # grade = student.get(\"grade\")\n",
    "\n",
    "    value += grade\n",
    "\n",
    "print(value)"
   ]
  },
  {
   "cell_type": "code",
   "execution_count": 35,
   "id": "a8b16731",
   "metadata": {},
   "outputs": [
    {
     "name": "stdout",
     "output_type": "stream",
     "text": [
      "10\n",
      "50\n",
      "Maximum number of student reached!\n",
      "[<__main__.Student object at 0x000002466B7DBB60>, <__main__.Student object at 0x000002466B80AAD0>]\n",
      "<__main__.Student object at 0x000002466B7DBB60>\n",
      "Ali\n",
      "Saeed\n",
      "CSC101 Class Average 15.0\n"
     ]
    }
   ],
   "source": [
    "# Interaction of Classes\n",
    "\n",
    "class Student:\n",
    "    def __init__(self, name, age, grade):\n",
    "        # Class Attributes\n",
    "        self.name = name\n",
    "        self.age = age\n",
    "        self.grade = grade\n",
    "\n",
    "    def get_grade(self):\n",
    "        return self.grade\n",
    "    \n",
    "\n",
    "class Course:\n",
    "    # Constructor/ initial function\n",
    "    def __init__(self,course_title,max_students):\n",
    "        self.course_title = course_title\n",
    "        self.max_students = max_students\n",
    "        self.students = []\n",
    "    \n",
    "    def add_student(self, student):\n",
    "        if len(self.students) < self.max_students:\n",
    "            self.students.append(student)\n",
    "            return True\n",
    "        else:\n",
    "            return print(\"Maximum number of student reached!\")\n",
    "        \n",
    "    def get_avg_grade(self):\n",
    "        value = 0\n",
    "        avg_grade = 0\n",
    "\n",
    "        if len(self.students) >0: \n",
    "            for student in self.students:\n",
    "                grade = student.get_grade()\n",
    "                value += grade\n",
    "            \n",
    "            no_of_students = len(self.students)\n",
    "            avg_grade = value/no_of_students\n",
    "        return avg_grade\n",
    "\n",
    "    \n",
    "\n",
    "\n",
    "s1 = Student(\"Ali\", 20, 10)\n",
    "s2 = Student(name =\"Saeed\", age =22, grade=20)\n",
    "s3 = Student(name =\"Bob\", age =18, grade=50)\n",
    "\n",
    "# Access the student grade\n",
    "print(s1.get_grade())\n",
    "print(s3.grade)\n",
    "\n",
    "CSC101 = Course(course_title=\"Intoduction to Computer Science\",max_students=2)\n",
    "\n",
    "# Let us enrol students to CSC101\n",
    "CSC101.add_student(s1)\n",
    "CSC101.add_student(s2)\n",
    "CSC101.add_student(s1)\n",
    "\n",
    "# Let see the student list\n",
    "\n",
    "print(CSC101.students)\n",
    "\n",
    "# Get the first student and print its name\n",
    "print(CSC101.students[0])\n",
    "print(CSC101.students[0].name)\n",
    "\n",
    "# Get the second student and print its name\n",
    "print(CSC101.students[1].name)\n",
    "        \n",
    "# Get the course average grade\n",
    "\n",
    "CSC101_class_average = CSC101.get_avg_grade()\n",
    "print(\"CSC101 Class Average\", CSC101_class_average)\n",
    "\n"
   ]
  },
  {
   "cell_type": "code",
   "execution_count": 36,
   "id": "a1837764",
   "metadata": {},
   "outputs": [],
   "source": [
    "# Class Inheritance\n",
    "\n",
    "class Cat:\n",
    "    def __init__(self, name, age):\n",
    "        self.name = name\n",
    "        self.age = age\n",
    "\n",
    "    def speak(self):\n",
    "        print(\"Meow meow!\")\n",
    "\n",
    "class Dog:\n",
    "    def __init__(self, name, age):\n",
    "        self.name = name\n",
    "        self.age = age\n",
    "\n",
    "    def speak(self):\n",
    "        print(\"Woof Woof!\")\n",
    "\n",
    "# Can we merge common things in these two class?\n",
    "\n"
   ]
  },
  {
   "cell_type": "code",
   "execution_count": 42,
   "id": "992604aa",
   "metadata": {},
   "outputs": [
    {
     "name": "stdout",
     "output_type": "stream",
     "text": [
      "I am Bob and I am 19 years old\n",
      "I don't know what to say\n",
      "I am Tom and I am 5 years old\n",
      "Meow meow!\n",
      "I am Bubble and I am 1 years old\n",
      "I don't know what to say\n"
     ]
    }
   ],
   "source": [
    "# Class Inheritance continues\n",
    "\n",
    "class Pet:\n",
    "    def __init__(self, name, age):\n",
    "        self.name = name\n",
    "        self.age = age\n",
    "    \n",
    "    def show(self):\n",
    "        print(f\"I am {self.name} and I am {self.age} years old\")\n",
    "\n",
    "    def speak(self):\n",
    "        print(\"I don't know what to say\")\n",
    "\n",
    "\n",
    "class Cat(Pet):\n",
    "    def speak(self):\n",
    "         print(\"Meow meow!\")\n",
    "\n",
    "\n",
    "class Dog(Pet):\n",
    "    def speak(self):\n",
    "        print(\"Woof Woof!\")\n",
    "\n",
    "class Fish(Pet):\n",
    "    pass\n",
    "\n",
    "p = Pet(\"Bob\", 19)\n",
    "p.show()\n",
    "p.speak()\n",
    "\n",
    "c = Cat(\"Tom\", 5)\n",
    "c.show()\n",
    "\n",
    "# What do you think will happen if the method speak in called by the Cat object?\n",
    "c.speak()\n",
    "\n",
    "\n",
    "f = Fish(\"Bubble\", 1)\n",
    "f.show()\n",
    "f.speak()\n"
   ]
  },
  {
   "cell_type": "code",
   "execution_count": null,
   "id": "913e2abf",
   "metadata": {},
   "outputs": [
    {
     "name": "stdout",
     "output_type": "stream",
     "text": [
      "I am Tom, 6 years old and have brown colour\n",
      "I am Bingo and I am 2 years old\n"
     ]
    }
   ],
   "source": [
    "# What if we want to add more attribute to Cat class e.g. colour that is not part of the super class i.e. Pet class?\n",
    "class Pet:\n",
    "    def __init__(self, name, age):\n",
    "        self.name = name\n",
    "        self.age = age\n",
    "    \n",
    "    def show(self):\n",
    "        print(f\"I am {self.name} and I am {self.age} years old\")\n",
    "\n",
    "    def speak(self):\n",
    "        print(\"I don't know what to say\")\n",
    "\n",
    "\n",
    "# Inheriting the upper level class Pet\n",
    "class Cat(Pet):\n",
    "    def __init__(self, name, age, colour):\n",
    "        super().__init__(name, age)\n",
    "        self.colour = colour\n",
    "\n",
    "    def speak(self):\n",
    "         print(\"Meow meow!\")\n",
    "    \n",
    "    def show(self):\n",
    "        print(f\"I am {self.name}, {self.age} years old and have {self.colour} colour\")\n",
    "\n",
    "class Dog(Pet):\n",
    "    def speak(self):\n",
    "        print(\"Woof Woof!\")\n",
    "\n",
    "class Fish(Pet):\n",
    "    pass\n",
    "\n",
    "\n",
    "c = Cat(\"Tom\", 6,\"brown\")\n",
    "c.show()\n",
    "\n",
    "d = Dog(\"Bingo\", 2)\n",
    "d.show()"
   ]
  },
  {
   "cell_type": "code",
   "execution_count": null,
   "id": "14ef091e",
   "metadata": {},
   "outputs": [],
   "source": []
  }
 ],
 "metadata": {
  "kernelspec": {
   "display_name": "Python 3",
   "language": "python",
   "name": "python3"
  },
  "language_info": {
   "codemirror_mode": {
    "name": "ipython",
    "version": 3
   },
   "file_extension": ".py",
   "mimetype": "text/x-python",
   "name": "python",
   "nbconvert_exporter": "python",
   "pygments_lexer": "ipython3",
   "version": "3.13.3"
  }
 },
 "nbformat": 4,
 "nbformat_minor": 5
}
