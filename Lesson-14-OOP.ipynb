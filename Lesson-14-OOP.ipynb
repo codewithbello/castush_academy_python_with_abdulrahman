{
 "cells": [
  {
   "cell_type": "code",
   "execution_count": null,
   "id": "6a04ce85",
   "metadata": {},
   "outputs": [
    {
     "name": "stdout",
     "output_type": "stream",
     "text": [
      "<class 'int'>\n"
     ]
    }
   ],
   "source": [
    "# Object Oriented Programming (OOP)\n",
    "\n",
    "x = 1\n",
    "\n",
    "print(type(x))\n",
    "\n",
    "# Note\n",
    "# x is an instance of the class int     "
   ]
  },
  {
   "cell_type": "code",
   "execution_count": 4,
   "id": "6bb7a88b",
   "metadata": {},
   "outputs": [
    {
     "name": "stdout",
     "output_type": "stream",
     "text": [
      "hello 👋\n",
      "<class 'function'>\n"
     ]
    }
   ],
   "source": [
    "def hello():\n",
    "    print(\"hello 👋\")\n",
    "\n",
    "hello()\n",
    "\n",
    "print(type(hello))"
   ]
  },
  {
   "cell_type": "code",
   "execution_count": 5,
   "id": "0dfc8136",
   "metadata": {},
   "outputs": [
    {
     "name": "stdout",
     "output_type": "stream",
     "text": [
      "unsupported operand type(s) for +: 'int' and 'str'\n"
     ]
    }
   ],
   "source": [
    "x = 1  # integer\n",
    "y = \"hello\"  # string\n",
    "\n",
    "try:\n",
    "    ans = x + y\n",
    "    print(ans)\n",
    "except Exception as e:\n",
    "    print(e)\n"
   ]
  },
  {
   "cell_type": "code",
   "execution_count": null,
   "id": "80ec40db",
   "metadata": {},
   "outputs": [
    {
     "data": {
      "text/plain": [
       "'SAEED'"
      ]
     },
     "execution_count": 6,
     "metadata": {},
     "output_type": "execute_result"
    }
   ],
   "source": [
    "# Understanding Class Method \n",
    "\n",
    "name = \"Saeed\"\n",
    "name.upper()"
   ]
  },
  {
   "cell_type": "code",
   "execution_count": 8,
   "id": "58a4e2ef",
   "metadata": {},
   "outputs": [
    {
     "name": "stdout",
     "output_type": "stream",
     "text": [
      "'int' object has no attribute 'upper'\n"
     ]
    }
   ],
   "source": [
    "try:\n",
    "    x = 1\n",
    "    x.upper()\n",
    "\n",
    "except Exception as e:\n",
    "    print(e)"
   ]
  },
  {
   "cell_type": "code",
   "execution_count": null,
   "id": "c1257436",
   "metadata": {},
   "outputs": [
    {
     "name": "stdout",
     "output_type": "stream",
     "text": [
      "ONE\n",
      "<class '__main__.customAliOneInt'>\n"
     ]
    }
   ],
   "source": [
    "# Let us create our own class\n",
    "\n",
    "# Create a class\n",
    "class customAliOneInt:\n",
    "    # Class Method\n",
    "    def upper(self):\n",
    "        print(\"ONE\")\n",
    "\n",
    "\n",
    "# Create an instance of the created class\n",
    "x = customAliOneInt()\n",
    "\n",
    "x.upper()\n",
    "\n",
    "print(type(x))\n",
    "# ----- What we have learnt\n",
    "#1 We learn how to create a class\n",
    "#2 How to create a method (function) inside of a class\n",
    "#3 How to create an instance of a class\n",
    "#4 How to invoke the class method on the class instance\n",
    "\n",
    "\n",
    "# What is self on line 6\n",
    "# Self means the instance of the class\n",
    "\n",
    "\n",
    "\n",
    "\n"
   ]
  },
  {
   "cell_type": "code",
   "execution_count": 14,
   "id": "b14504f7",
   "metadata": {},
   "outputs": [
    {
     "name": "stdout",
     "output_type": "stream",
     "text": [
      "woof woof!\n",
      "<class '__main__.Dog'>\n"
     ]
    }
   ],
   "source": [
    "# Example 2\n",
    "\n",
    "class Dog:\n",
    "\n",
    "    # method\n",
    "    def bark(self):\n",
    "        print(\"woof woof!\")\n",
    "\n",
    "\n",
    "# Instantiating the Dog class\n",
    "d = Dog()\n",
    "\n",
    "# Calling the bark method on the instance of the Dog class\n",
    "\n",
    "d.bark()\n",
    "\n",
    "print(type(d))\n"
   ]
  },
  {
   "cell_type": "code",
   "execution_count": 25,
   "id": "cda2ac4a",
   "metadata": {},
   "outputs": [
    {
     "name": "stdout",
     "output_type": "stream",
     "text": [
      "bingo\n",
      "Casey\n"
     ]
    }
   ],
   "source": [
    "# Class constructor\n",
    "\n",
    "class Dog:\n",
    "    # Special method/ initialization/ constructor\n",
    "    def __init__(self,name):\n",
    "\n",
    "        # Attributes\n",
    "        self.name = name.capitalize()\n",
    "        print(name)\n",
    "\n",
    "    # method\n",
    "    def bark(self):\n",
    "        print(\"woof woof!\")\n",
    "\n",
    "\n",
    "    \n",
    "\n",
    "d1 = Dog(\"bingo\")\n",
    "d2 = Dog(\"Casey\")\n",
    "\n",
    "\n"
   ]
  },
  {
   "cell_type": "code",
   "execution_count": 26,
   "id": "957eaa37",
   "metadata": {},
   "outputs": [
    {
     "name": "stdout",
     "output_type": "stream",
     "text": [
      "Bingo\n",
      "woof woof!\n"
     ]
    }
   ],
   "source": [
    "name = d1.name\n",
    "print(name)\n",
    "\n",
    "d1.bark()"
   ]
  },
  {
   "cell_type": "code",
   "execution_count": 19,
   "id": "cb171d4e",
   "metadata": {},
   "outputs": [
    {
     "data": {
      "text/plain": [
       "'Casey'"
      ]
     },
     "execution_count": 19,
     "metadata": {},
     "output_type": "execute_result"
    }
   ],
   "source": [
    "d2.name"
   ]
  },
  {
   "cell_type": "code",
   "execution_count": 38,
   "id": "84e8e600",
   "metadata": {},
   "outputs": [],
   "source": [
    "class Dog:\n",
    "    # Constructor\n",
    "    def __init__(self, name,age, colour):\n",
    "        self.name = name\n",
    "        self.age = age\n",
    "        self.colour = colour\n",
    "        self.display = f\"My name is {self.name}, I am {self.age} year's old and {self.colour}\"\n",
    "\n",
    "    def bark(self):\n",
    "        print(\"woof woof!\")\n",
    "    \n",
    "    def get_name(self):\n",
    "        print(self.name)\n",
    "\n",
    "    def get_age(self):\n",
    "        print(self.age)\n",
    "\n",
    "    def get_colour(self):\n",
    "        print(self.colour)\n",
    "\n",
    "    def info(self):\n",
    "        print(self.display)\n",
    "\n",
    "\n",
    "\n",
    "d1 = Dog(\"Bingo\", 2, \"brown\")\n",
    "d2 = Dog(\"Casey\", 2, \"white\")\n",
    "d3 = Dog(\"Foxy\", 2, \"black\")"
   ]
  },
  {
   "cell_type": "code",
   "execution_count": 33,
   "id": "249c28e0",
   "metadata": {},
   "outputs": [
    {
     "name": "stdout",
     "output_type": "stream",
     "text": [
      "Casey\n",
      "2\n",
      "white\n"
     ]
    }
   ],
   "source": [
    "d2.get_name()\n",
    "d2.get_age()\n",
    "d2.get_colour()"
   ]
  },
  {
   "cell_type": "code",
   "execution_count": 34,
   "id": "9973fdff",
   "metadata": {},
   "outputs": [
    {
     "name": "stdout",
     "output_type": "stream",
     "text": [
      "Bingo\n",
      "2\n",
      "brown\n"
     ]
    }
   ],
   "source": [
    "d1.get_name()\n",
    "d1.get_age()\n",
    "d1.get_colour()"
   ]
  },
  {
   "cell_type": "code",
   "execution_count": 35,
   "id": "aa7296f9",
   "metadata": {},
   "outputs": [
    {
     "name": "stdout",
     "output_type": "stream",
     "text": [
      "Foxy\n",
      "2\n",
      "black\n"
     ]
    }
   ],
   "source": [
    "d3.get_name()\n",
    "d3.get_age()\n",
    "d3.get_colour()"
   ]
  },
  {
   "cell_type": "code",
   "execution_count": 36,
   "id": "d2ee5eb3",
   "metadata": {},
   "outputs": [
    {
     "data": {
      "text/plain": [
       "'Bingo'"
      ]
     },
     "execution_count": 36,
     "metadata": {},
     "output_type": "execute_result"
    }
   ],
   "source": [
    "d1.name"
   ]
  },
  {
   "cell_type": "code",
   "execution_count": 37,
   "id": "305cadf0",
   "metadata": {},
   "outputs": [
    {
     "data": {
      "text/plain": [
       "2"
      ]
     },
     "execution_count": 37,
     "metadata": {},
     "output_type": "execute_result"
    }
   ],
   "source": [
    "d1.age"
   ]
  },
  {
   "cell_type": "code",
   "execution_count": null,
   "id": "084312ac",
   "metadata": {},
   "outputs": [],
   "source": [
    "d1.info()"
   ]
  },
  {
   "cell_type": "code",
   "execution_count": 40,
   "id": "051e2d29",
   "metadata": {},
   "outputs": [
    {
     "name": "stdout",
     "output_type": "stream",
     "text": [
      "laptop\n"
     ]
    }
   ],
   "source": [
    "product = str(\"laptop\")\n",
    "\n",
    "print(product)"
   ]
  },
  {
   "cell_type": "code",
   "execution_count": null,
   "id": "4d9ef486",
   "metadata": {},
   "outputs": [],
   "source": [
    "x = int(1)\n"
   ]
  },
  {
   "cell_type": "code",
   "execution_count": null,
   "id": "5f419c97",
   "metadata": {},
   "outputs": [],
   "source": [
    "# Class is like a blueprint for the Python Object\n",
    "\n",
    "# Why Class\n",
    "\n",
    "'''\n",
    "Imagine I want to create  and describe an object with its attribute:\n",
    "\n",
    "dog1_name = \"Bingo\"\n",
    "dog1_age = 20\n",
    "\n",
    "Then I will need to create for mmany dogs type, \n",
    "imagine how cumbersome that will be\n",
    "\n",
    "Alternatively, I can say I will store them in a list, for example\n",
    "\n",
    "dog_name = [\"Bingo\", \"Casey\"]\n",
    "dog_age = [20, 5]\n",
    "\n",
    "The trouble of maitaining the list for any changes or \n",
    "update can't be imagine\n",
    "As one need to keep track of the index of each attributes\n",
    "'''\n"
   ]
  },
  {
   "cell_type": "code",
   "execution_count": null,
   "id": "b9826a56",
   "metadata": {},
   "outputs": [],
   "source": [
    "# Interaction of Classes\n"
   ]
  }
 ],
 "metadata": {
  "kernelspec": {
   "display_name": "Python 3",
   "language": "python",
   "name": "python3"
  },
  "language_info": {
   "codemirror_mode": {
    "name": "ipython",
    "version": 3
   },
   "file_extension": ".py",
   "mimetype": "text/x-python",
   "name": "python",
   "nbconvert_exporter": "python",
   "pygments_lexer": "ipython3",
   "version": "3.13.3"
  }
 },
 "nbformat": 4,
 "nbformat_minor": 5
}
