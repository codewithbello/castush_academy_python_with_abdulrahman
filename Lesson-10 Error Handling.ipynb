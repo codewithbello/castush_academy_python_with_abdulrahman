{
 "cells": [
  {
   "cell_type": "code",
   "execution_count": 1,
   "id": "e8cd64ad",
   "metadata": {},
   "outputs": [
    {
     "name": "stdout",
     "output_type": "stream",
     "text": [
      "An error occured\n",
      "Python is  awesome\n"
     ]
    }
   ],
   "source": [
    "try:  \n",
    "    age  = 2025 -'year two thousand'\n",
    "    print(age)\n",
    "except TypeError:\n",
    "    print('An error occured')\n",
    "\n",
    "\n",
    "print('Python is  awesome')"
   ]
  },
  {
   "cell_type": "code",
   "execution_count": 2,
   "id": "63fd00d7",
   "metadata": {},
   "outputs": [
    {
     "name": "stdout",
     "output_type": "stream",
     "text": [
      "Oops! items not found\n",
      "Python is  awesome\n"
     ]
    }
   ],
   "source": [
    "colours = ('blue', 'red', 'green', 'yellow', 'blue')\n",
    "try:\n",
    "    # statement\n",
    "    colours.index('Red')\n",
    "\n",
    "except ValueError:\n",
    "    print('Oops! items not found')\n",
    "\n",
    "print('Python is  awesome')"
   ]
  },
  {
   "cell_type": "code",
   "execution_count": null,
   "id": "5f487da6",
   "metadata": {},
   "outputs": [],
   "source": [
    "try:\n",
    "    colours[0]  \n",
    "except TypeError:\n",
    "    print('Error!')"
   ]
  },
  {
   "cell_type": "code",
   "execution_count": null,
   "id": "76245f8e",
   "metadata": {},
   "outputs": [],
   "source": [
    "try:\n",
    "    colours[0]  \n",
    "except Exception as e:\n",
    "    print('Error!', e)"
   ]
  }
 ],
 "metadata": {
  "kernelspec": {
   "display_name": "Python 3",
   "language": "python",
   "name": "python3"
  },
  "language_info": {
   "codemirror_mode": {
    "name": "ipython",
    "version": 3
   },
   "file_extension": ".py",
   "mimetype": "text/x-python",
   "name": "python",
   "nbconvert_exporter": "python",
   "pygments_lexer": "ipython3",
   "version": "3.13.3"
  }
 },
 "nbformat": 4,
 "nbformat_minor": 5
}
